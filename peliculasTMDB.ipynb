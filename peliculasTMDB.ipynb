{
  "nbformat": 4,
  "nbformat_minor": 0,
  "metadata": {
    "colab": {
      "name": "peliculasTMDB.ipynb",
      "provenance": [],
      "collapsed_sections": []
    },
    "kernelspec": {
      "name": "python3",
      "display_name": "Python 3"
    },
    "language_info": {
      "name": "python"
    }
  },
  "cells": [
    {
      "cell_type": "markdown",
      "metadata": {
        "id": "RnowAZ_Zixzl"
      },
      "source": [
        "# **Carga inicial y librerias**\n",
        "\n",
        "Primero, dejaremos los instaladores de algunas librerias que a lo mejor no vienen por defecto en este notebook"
      ]
    },
    {
      "cell_type": "code",
      "metadata": {
        "id": "TlgzV76HFQqG"
      },
      "source": [
        "!pip install surprise"
      ],
      "execution_count": null,
      "outputs": []
    },
    {
      "cell_type": "code",
      "metadata": {
        "id": "bJj0y-t1Fz0K"
      },
      "source": [
        "!pip install pandas"
      ],
      "execution_count": null,
      "outputs": []
    },
    {
      "cell_type": "markdown",
      "metadata": {
        "id": "m6dMcyeXFkyy"
      },
      "source": [
        "Se hace la carga inicial y se ven los tipos de datos del dataset. Muy importante, ya que a la hora de operar con algunos hay que hacer conversiones y tratamientos de formato."
      ]
    },
    {
      "cell_type": "code",
      "metadata": {
        "id": "MrI3TeRWdJMp"
      },
      "source": [
        "import pandas as pd\n",
        "import ast\n",
        "from ast import literal_eval\n",
        "import numpy as np\n",
        "from sklearn.feature_extraction.text import TfidfVectorizer, CountVectorizer\n",
        "from sklearn.metrics.pairwise import linear_kernel, cosine_similarity\n",
        "from surprise import SVD, Dataset, Reader\n",
        "\n",
        "import warnings; warnings.simplefilter('ignore')\n",
        "\n",
        "#Hacer el load inicial\n",
        "# movies = pd.read_csv('tmdb_5000_movies.csv')\n",
        "movies = pd.read_csv('/content/drive/MyDrive/Cuarto/abp_proyecto/TMDB/tmdb_5000_movies.csv')\n",
        "\n",
        "print(movies.info())"
      ],
      "execution_count": null,
      "outputs": []
    },
    {
      "cell_type": "markdown",
      "metadata": {
        "id": "JSi_zDyLjD6U"
      },
      "source": [
        "# **Asociar géneros a peliculas de manera más intuitiva**\n",
        "\n",
        "Una operación común en un sistema de recomendación de este tipo es el filtrado por género de peliculas, por esa razón queremos construir un pequeño dataframe a partir del original que asigne de una forma mucho más intuitiva los generos a sus determinadas pelis. Lo que genere este código podría facilitar la puesta en el navegador"
      ]
    },
    {
      "cell_type": "code",
      "metadata": {
        "id": "zI4txp3VjicD"
      },
      "source": [
        "# por practicidad usaremos para el ejemplo sólo 5 pelis\n",
        "cabeza = movies.head() \n",
        "\n",
        "titles = cabeza[\"title\"]\n",
        "genres = movies[\"genres\"]\n",
        "\n",
        "# usamos un set, para evitar las repeticiones\n",
        "generos = set()\n",
        "\n",
        "# metemos al set los distintos generos\n",
        "for i in range(len(genres)):\n",
        " salida = ast.literal_eval(genres[i])\n",
        " for j in range(len(salida)):\n",
        "  generos.add(salida[j][\"name\"])\n",
        "\n",
        "# la convertimos a lista para que su manejo sea más \n",
        "# facil a la hora de armar el DF\n",
        "generos = list(generos) \n",
        "generos = sorted(generos) \n",
        "\n",
        "# creamos el nuevo dataframe con nuestras pelis como \n",
        "# filas y los géneros como columnas\n",
        "df = pd.DataFrame(index=titles ,columns=generos)\n",
        "\n",
        "df\n",
        "\n"
      ],
      "execution_count": null,
      "outputs": []
    },
    {
      "cell_type": "markdown",
      "metadata": {
        "id": "dpMEN98jqBVh"
      },
      "source": [
        "Ya tenemos el Data frame como lo queriamos, ahora lo que quedaría por hacer es rellenarlo con valores correctos, aplicando un poco de lógica sobre los valores que tenemos en el Dataset original"
      ]
    },
    {
      "cell_type": "code",
      "metadata": {
        "id": "oaN1PnyiYn9G"
      },
      "source": [
        "# aplicamos la longitud del dataframe \n",
        "# para que no se salga de rango\n",
        "\n",
        "for i in range(len(df)):\n",
        "  literales = ast.literal_eval(genres[i])\n",
        "  generos_para_peli = set()\n",
        "\n",
        "  for j in range(len(literales)):\n",
        "    generos_para_peli.add(literales[j]['name'])\n",
        "  \n",
        "  generos_para_peli = list(generos_para_peli)\n",
        "\n",
        "  for genero in generos_para_peli:\n",
        "    df.iloc[i][genero] = 1\n",
        "    \n",
        "#poner el resto de columnas que están en NaN a 0\n",
        "  for column in df.columns:\n",
        "    if(np.isnan(df.iloc[i][column])):\n",
        "      df.iloc[i][column] = 0\n",
        "\n",
        "df"
      ],
      "execution_count": null,
      "outputs": []
    },
    {
      "cell_type": "markdown",
      "metadata": {
        "id": "cZJ6ZwpuMDVA"
      },
      "source": [
        "# **Recuperar los datos más relevantes de las peliculas**\n",
        "\n",
        "Otra operación común es la recuperación de la descripción corta(overview), fecha de estreno, idioma original y página web de la pelicula"
      ]
    },
    {
      "cell_type": "code",
      "metadata": {
        "id": "MG1keNTIMPCR"
      },
      "source": [
        "# Se usa la misma variable reducida para los titulos \n",
        "\n",
        "release_dates = movies[\"release_date\"]\n",
        "overviews = movies[\"overview\"]\n",
        "homepages = movies[\"homepage\"]\n",
        "languages = movies[\"original_language\"]\n",
        "\n",
        "df_movies = pd.DataFrame(index=titles, columns=[\"overview\",\n",
        "                                                \"release date\", \n",
        "                                                \"homepage\", \n",
        "                                                \"original language\"])\n",
        "\n",
        "# aplicamos el mismo principio de antes para poner a cada peli sus datos \n",
        "\n",
        "for i in range(len(df_movies)):\n",
        "  df_movies.iloc[i][\"overview\"] = overviews[i]\n",
        "  df_movies.iloc[i][\"release date\"] = release_dates[i]\n",
        "  df_movies.iloc[i][\"homepage\"] = homepages[i]\n",
        "  df_movies.iloc[i][\"original language\"] = languages[i]\n",
        "\n",
        "df_movies"
      ],
      "execution_count": null,
      "outputs": []
    },
    {
      "cell_type": "markdown",
      "metadata": {
        "id": "47smlNsoWLRJ"
      },
      "source": [
        "# **Recomendaciones basadas en la descripción**\n",
        "\n",
        "Usando las descripciones se relacionarán varias películas para mostrarles al usuario. Haremos la carga de otro Dataset de películas que es un poco más completo y contiene un montón de datos importantes para nuestro sistema de recomendación"
      ]
    },
    {
      "cell_type": "code",
      "metadata": {
        "id": "60MaMXpDWYTV"
      },
      "source": [
        "# hacemos la carga del dataset\n",
        "\n",
        "# mv_metadata = pd.read_csv('movies_metadata.csv')\n",
        "mv_metadata = pd.read_csv('/content/drive/MyDrive/Cuarto/abp_proyecto/TMDB/archive/movies_metadata.csv')\n",
        "mv_metadata.head()\n"
      ],
      "execution_count": null,
      "outputs": []
    },
    {
      "cell_type": "markdown",
      "metadata": {
        "id": "yCcS-uRcZHpv"
      },
      "source": [
        "Para realizar las operaciones también haremos uso de un dataset auxiliar, el cual contiene las relaciones por id de las peliculas en dos datasets distintos"
      ]
    },
    {
      "cell_type": "code",
      "metadata": {
        "id": "AEOzJWbtZY9H"
      },
      "source": [
        "# links_small = pd.read_csv('links_small.csv')\n",
        "links_small = pd.read_csv('/content/drive/MyDrive/Cuarto/abp_proyecto/TMDB/archive/links_small.csv')\n",
        "\n",
        "# realizamos una conversion de tipos\n",
        "# ya que los valores de interes están como string\n",
        "links_small = links_small[links_small['tmdbId'].notnull()]['tmdbId'].astype('int')\n",
        "\n",
        "mv_metadata = mv_metadata.drop([19730, 29503, 35587])\n",
        "\n",
        "mv_metadata['id'] = mv_metadata['id'].astype('int')\n",
        "\n",
        "# tenemos el dataframe con los datos relacionados\n",
        "small_mv_metadata = mv_metadata[mv_metadata['id'].isin(links_small)]\n",
        "\n",
        "# links_small.head()\n",
        "\n",
        "small_mv_metadata.head(3) # visualizar que datos tiene\n"
      ],
      "execution_count": null,
      "outputs": []
    },
    {
      "cell_type": "markdown",
      "metadata": {
        "id": "ux_GC6Mvb6UE"
      },
      "source": [
        "Para construir relaciones entre una pelicula dada usaremos los atributos 'description' y 'tagline' del dataset o dataframe que hemos construido antes. A continuación, usaremos la función para la similaridad del coseno"
      ]
    },
    {
      "cell_type": "code",
      "metadata": {
        "id": "MA1gaVz8cM9e"
      },
      "source": [
        "small_mv_metadata['tagline'] = small_mv_metadata['tagline'].fillna('')\n",
        "small_mv_metadata['description'] = small_mv_metadata['overview'] + small_mv_metadata['tagline']\n",
        "small_mv_metadata['description'] = small_mv_metadata['description'].fillna('')\n",
        "\n",
        "tf = TfidfVectorizer(analyzer='word',ngram_range=(1, 2),min_df=0, stop_words='english')\n",
        "tfidf_matrix = tf.fit_transform(small_mv_metadata['description'])\n",
        "\n",
        "small_mv_metadata = small_mv_metadata.reset_index()\n",
        "titles = small_mv_metadata['title']\n",
        "indices = pd.Series(small_mv_metadata.index, index=small_mv_metadata['title'])\n",
        "\n",
        "cosine_sim = linear_kernel(tfidf_matrix, tfidf_matrix)\n"
      ],
      "execution_count": null,
      "outputs": []
    },
    {
      "cell_type": "markdown",
      "metadata": {
        "id": "pAba3RXHdkWe"
      },
      "source": [
        "Por último, para que sea mucho más sencillo el uso se creará una funcion para obtener las recomendaciones basadas en el título pasado como argumento."
      ]
    },
    {
      "cell_type": "code",
      "metadata": {
        "id": "Fs1XkEoa9gtE"
      },
      "source": [
        "def recomendaciones_de(title):\n",
        "    idx = indices[title]\n",
        "    sim_scores = list(enumerate(cosine_sim[idx]))\n",
        "    sim_scores = sorted(sim_scores, key=lambda x: x[1], reverse=True)\n",
        "    sim_scores = sim_scores[1:31]\n",
        "    movie_indices = [i[0] for i in sim_scores]\n",
        "    return titles.iloc[movie_indices]\n",
        "\n",
        "recomendaciones_de(\"Avatar\").head(10)"
      ],
      "execution_count": null,
      "outputs": []
    },
    {
      "cell_type": "markdown",
      "metadata": {
        "id": "sKNPE25Y1yMz"
      },
      "source": [
        "## **Escoger películas por popularidad y ratings**\n",
        "\n",
        "Ahora no sólo recomendará peliculas que coincidan basadas en la descripción, sino que escogerá de esa relación cual tienen un rating más alto y mayor popularidad, generando una selección filmográfica mucho más completa y de mejor calidad.\n",
        "\n",
        "Utilizamos las clasificaciones de TMDB para crear nuestra tabla de películas principales. Usaremos la fórmula de calificación ponderada de IMDB para construir nuestro gráfico. Matemáticamente, se representa de la siguiente manera:\n",
        "\n",
        "Calificación ponderada (WR) = (vv + m.R) + (mv + m.C)\n",
        "dónde,\n",
        "\n",
        "-v es el número de votos para la película\n",
        "\n",
        "-m son los votos mínimos requeridos para aparecer en la tabla\n",
        "\n",
        "-R es la calificación promedio de la película\n",
        "\n",
        "-C es el voto medio de todo el informe\n",
        "\n",
        "Ahora tenemos que determinar un valor apropiado para m, los votos mínimos requeridos para aparecer en la tabla. Usaremos el percentil 95 como nuestro límite. En otras palabras, para que una película aparezca en las listas, debe tener más votos que al menos el 95% de las películas de la lista."
      ]
    },
    {
      "cell_type": "code",
      "metadata": {
        "id": "h7cfALsH2WbB"
      },
      "source": [
        "vote_counts = mv_metadata[mv_metadata['vote_count'].notnull()]['vote_count'].astype('int')\n",
        "vote_averages = mv_metadata[mv_metadata['vote_average'].notnull()]['vote_average'].astype('int')\n",
        "C = vote_averages.mean()\n",
        "m = vote_counts.quantile(0.95)\n",
        "\n",
        "def weighted_rating(x):\n",
        "    v = x['vote_count']\n",
        "    R = x['vote_average']\n",
        "    return (v/(v+m) * R) + (m/(m+v) * C)\n",
        "\n",
        "def pelis_popularidad(title):\n",
        "    idx = indices[title]\n",
        "    sim_scores = list(enumerate(cosine_sim[idx]))\n",
        "    sim_scores = sorted(sim_scores, key=lambda x: x[1], reverse=True)\n",
        "    sim_scores = sim_scores[1:26]\n",
        "    movie_indices = [i[0] for i in sim_scores]\n",
        "\n",
        "    #aqui viene el código nuevo que mejora a nuestra\n",
        "    #funcion anterior\n",
        "    pelis = small_mv_metadata.iloc[movie_indices][['title', 'vote_count', 'vote_average', 'release_date']]\n",
        "    vote_counts = pelis[pelis['vote_count'].notnull()]['vote_count'].astype('int')\n",
        "    vote_averages = pelis[pelis['vote_average'].notnull()]['vote_average'].astype('int')\n",
        "\n",
        "    vote_counts = pelis[pelis['vote_count'].notnull()]['vote_count'].astype('int')\n",
        "    vote_averages = pelis[pelis['vote_average'].notnull()]['vote_average'].astype('int')\n",
        "    \n",
        "    qualified = pelis[(pelis['vote_count'] >= m) & (pelis['vote_count'].notnull()) & (pelis['vote_average'].notnull())]\n",
        "\n",
        "    qualified['vote_count'] = qualified['vote_count'].astype('int')\n",
        "    qualified['vote_average'] = qualified['vote_average'].astype('int')\n",
        "\n",
        "    qualified['wr'] = qualified.apply(weighted_rating, axis=1)\n",
        "    qualified = qualified.sort_values('wr', ascending=False).head(10)\n",
        "    return qualified\n",
        "\n",
        "pelis_popularidad('The Dark Knight')"
      ],
      "execution_count": null,
      "outputs": []
    },
    {
      "cell_type": "markdown",
      "metadata": {
        "id": "Aepq2ZamqSq0"
      },
      "source": [
        "Tambien aplicando las formulas anteriores podemos crear la función para que nos dé las películas por genero basadas también en su popularidad, eso ofrece aún más juego a la hora de recomendar a los usuarios. Lo que haremos en esta es bajar el percentil de 0.95 a 0.85"
      ]
    },
    {
      "cell_type": "code",
      "metadata": {
        "id": "4GHYUv3VqkCj"
      },
      "source": [
        "movies['year'] = pd.to_datetime(movies['release_date'], errors='coerce').apply(lambda x: str(x).split('-')[0] if x != np.nan else np.nan)\n",
        "salida = movies.apply(lambda x: pd.Series(x['genres']),axis=1).stack().reset_index(level=1, drop=True)\n",
        "salida.name = 'genre'\n",
        "genero_pelis = movies.drop('genres', axis=1).join(s)\n",
        "\n",
        "def popularidad_y_genero(genre, percentile=0.85):\n",
        "    df = genero_pelis[genero_pelis['genre'] == genre]\n",
        "    votos = df[df['vote_count'].notnull()]['vote_count'].astype('int')\n",
        "    promedio = df[df['vote_average'].notnull()]['vote_average'].astype('int')\n",
        "    C = promedio.mean()\n",
        "    m = votos.quantile(percentile)\n",
        "    \n",
        "    # creamos nuestro dataframe de notas a partir del genero\n",
        "    nota = df[(df['vote_count'] >= m) & (df['vote_count'].notnull()) & (df['vote_average'].notnull())][['title', \n",
        "                                                                                                        'year', \n",
        "                                                                                                        'vote_count', \n",
        "                                                                                                        'vote_average', \n",
        "                                                                                                        'popularity']]\n",
        "    nota['vote_count'] = nota['vote_count'].astype('int')\n",
        "    nota['vote_average'] = nota['vote_average'].astype('int')\n",
        "    nota['wr'] = nota.apply(weighted_rating, axis=1)\n",
        "    nota = nota.sort_values('wr', ascending=False).head(250)\n",
        "    \n",
        "    return nota\n",
        "\n",
        "popularidad_y_genero('Drama').head(15)"
      ],
      "execution_count": null,
      "outputs": []
    },
    {
      "cell_type": "markdown",
      "metadata": {
        "id": "L3roCihh4Iy4"
      },
      "source": [
        "# **Recomendaciones por usuario**\n",
        "\n",
        "Se usarán técnicas de filtrado híbrido, que combinan el filtrado colaborativo, para tener mucha más personalización, y las recomendaciones basadas en contenido. La función aceptará como argumentos un id de usuario y una pelicula, y mediante las técnicas antes mencionadas, aunque la película sea la misma, si el usuario es diferente se recomendarán películas distintas."
      ]
    },
    {
      "cell_type": "code",
      "metadata": {
        "id": "2hd7RkxA5Mr5"
      },
      "source": [
        "# parte del filtrado colaborativo\n",
        "\n",
        "# ratings = pd.read_csv('ratings_small.csv')\n",
        "ratings = pd.read_csv('/content/drive/MyDrive/Cuarto/abp_proyecto/TMDB/archive/ratings_small.csv')\n",
        "svd = SVD()\n",
        "reader = Reader()\n",
        "data = Dataset.load_from_df(ratings[['userId', 'movieId', 'rating']], reader)\n",
        "trainset = data.build_full_trainset()\n",
        "svd.fit(trainset)\n",
        "id_map = pd.read_csv('/content/drive/MyDrive/Cuarto/abp_proyecto/TMDB/archive/links_small.csv')[['movieId', 'tmdbId']]\n",
        "\n",
        "\n",
        "#funciones hibridas para la parte hibrida\n",
        "def convert_int(x):\n",
        "    try:\n",
        "        return int(x)\n",
        "    except:\n",
        "        return np.nan\n",
        "\n",
        "id_map = pd.read_csv('links_small.csv')[['movieId', 'tmdbId']]\n",
        "id_map['tmdbId'] = id_map['tmdbId'].apply(convert_int)\n",
        "id_map.columns = ['movieId', 'id']\n",
        "id_map = id_map.merge(small_mv_metadata[['title', 'id']], on='id').set_index('title')\n",
        "\n",
        "indices_map = id_map.set_index('id')\n",
        "\n",
        "def recomendacion_hibrida(userId, title):\n",
        "    idx = indices[title]\n",
        "    tmdbId = id_map.loc[title]['id']\n",
        "    movie_id = id_map.loc[title]['movieId']\n",
        "    \n",
        "    sim_scores = list(enumerate(cosine_sim[int(idx)]))\n",
        "    sim_scores = sorted(sim_scores, key=lambda x: x[1], reverse=True)\n",
        "    sim_scores = sim_scores[1:26]\n",
        "    movie_indices = [i[0] for i in sim_scores]\n",
        "\n",
        "    pelis = small_mv_metadata.iloc[movie_indices][['title', 'vote_count', 'vote_average', 'release_date', 'id']]\n",
        "    pelis['est'] = pelis['id'].apply(lambda x: svd.predict(userId, indices_map.loc[x]['movieId']).est)\n",
        "    pelis = pelis.sort_values('est', ascending=False)\n",
        "    return pelis.head(10)\n"
      ],
      "execution_count": null,
      "outputs": []
    },
    {
      "cell_type": "markdown",
      "metadata": {
        "id": "iKSaS6JtIYJL"
      },
      "source": [
        "\n",
        "Aunque sea para una misma pelicula al ser un usuario con un id diferente se recomiendan pelis distintas"
      ]
    },
    {
      "cell_type": "code",
      "metadata": {
        "id": "ExtjbvbvIOkS"
      },
      "source": [
        "#probamos para el usuario 1\n",
        "recomendacion_hibrida(1, 'The Dark Knight')"
      ],
      "execution_count": null,
      "outputs": []
    },
    {
      "cell_type": "code",
      "metadata": {
        "id": "0_y4ndtDIOWd"
      },
      "source": [
        "# y ahora vemos la salida para el usuario 30, por ejemplo\n",
        "recomendacion_hibrida(30, 'The Dark Knight')"
      ],
      "execution_count": null,
      "outputs": []
    }
  ]
}