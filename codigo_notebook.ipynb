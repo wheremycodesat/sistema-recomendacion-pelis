{
  "nbformat": 4,
  "nbformat_minor": 0,
  "metadata": {
    "colab": {
      "name": "Notebook_Entregable.ipynb",
      "provenance": [],
      "collapsed_sections": []
    },
    "kernelspec": {
      "name": "python3",
      "display_name": "Python 3"
    },
    "language_info": {
      "name": "python"
    }
  },
  "cells": [
    {
      "cell_type": "markdown",
      "metadata": {
        "id": "iwhek0p_mwPe"
      },
      "source": [
        "# **Sistema de recomendación TMDB**\n",
        "\n",
        "**Grupo_25**\n",
        "\n",
        "**Autores:** Óscar Fernández Vázquez,\n",
        "         César Regalado Núñez y\n",
        "         Samuel Andrés Velásquez Semeria"
      ]
    },
    {
      "cell_type": "markdown",
      "metadata": {
        "id": "JpTScrCEnkjG"
      },
      "source": [
        "Nuestro proyecto contempla la implementación de un sistema de recomendación de peliculas, con los datos recopilados de datasets formados con datos de TMDB, que es una base de datos de peliculas. Para este proyecto, se usarán varias técnicas de recuperación de datos, creación de dataframes para ver mejor los datos ya que algunos no son fáciles de visualizar, relaciones entre películas y géneros y finalmente técnicas de recomendación basadas en el contenido, en las que fundamentalmente se usarán la descripción y algunas características en común entre las películas.\n",
        "\n"
      ]
    },
    {
      "cell_type": "markdown",
      "metadata": {
        "id": "Q0dd4ad-ohSn"
      },
      "source": [
        "# **Carga Inicial y pruebas de visualización**\n",
        "\n",
        "Primero, dejaremos los instaladores de algunas librerias que a lo mejor no vienen por defecto en este notebook"
      ]
    },
    {
      "cell_type": "code",
      "metadata": {
        "id": "SRtm8nq_lhXL",
        "colab": {
          "base_uri": "https://localhost:8080/"
        },
        "outputId": "82987896-af7f-42dc-86ba-95e01c426684"
      },
      "source": [
        "!pip install surprise"
      ],
      "execution_count": 217,
      "outputs": [
        {
          "output_type": "stream",
          "name": "stdout",
          "text": [
            "Requirement already satisfied: surprise in /usr/local/lib/python3.7/dist-packages (0.1)\n",
            "Requirement already satisfied: scikit-surprise in /usr/local/lib/python3.7/dist-packages (from surprise) (1.1.1)\n",
            "Requirement already satisfied: scipy>=1.0.0 in /usr/local/lib/python3.7/dist-packages (from scikit-surprise->surprise) (1.4.1)\n",
            "Requirement already satisfied: six>=1.10.0 in /usr/local/lib/python3.7/dist-packages (from scikit-surprise->surprise) (1.15.0)\n",
            "Requirement already satisfied: numpy>=1.11.2 in /usr/local/lib/python3.7/dist-packages (from scikit-surprise->surprise) (1.19.5)\n",
            "Requirement already satisfied: joblib>=0.11 in /usr/local/lib/python3.7/dist-packages (from scikit-surprise->surprise) (1.1.0)\n"
          ]
        }
      ]
    },
    {
      "cell_type": "code",
      "metadata": {
        "colab": {
          "base_uri": "https://localhost:8080/"
        },
        "id": "weChe3J-o67a",
        "outputId": "15576fe3-767c-4695-bcc5-475d1519ba15"
      },
      "source": [
        "!pip install pandas"
      ],
      "execution_count": 218,
      "outputs": [
        {
          "output_type": "stream",
          "name": "stdout",
          "text": [
            "Requirement already satisfied: pandas in /usr/local/lib/python3.7/dist-packages (1.1.5)\n",
            "Requirement already satisfied: python-dateutil>=2.7.3 in /usr/local/lib/python3.7/dist-packages (from pandas) (2.8.2)\n",
            "Requirement already satisfied: numpy>=1.15.4 in /usr/local/lib/python3.7/dist-packages (from pandas) (1.19.5)\n",
            "Requirement already satisfied: pytz>=2017.2 in /usr/local/lib/python3.7/dist-packages (from pandas) (2018.9)\n",
            "Requirement already satisfied: six>=1.5 in /usr/local/lib/python3.7/dist-packages (from python-dateutil>=2.7.3->pandas) (1.15.0)\n"
          ]
        }
      ]
    },
    {
      "cell_type": "markdown",
      "metadata": {
        "id": "JxgpjEKwpCTq"
      },
      "source": [
        "A continuación se cargan todas las librerías que usaremos y se carga el primer dataset que usamos, el cual corresponde con el de 5000 películas de TMDB. Lo primero que haremos con este dataset es ver que información contienen sus campos."
      ]
    },
    {
      "cell_type": "code",
      "metadata": {
        "id": "NlbvONJQpb3-"
      },
      "source": [
        "# Se ejecutaran a parte para que la carga a continuación no interfiera\n",
        "import pandas as pd\n",
        "import ast\n",
        "from ast import literal_eval\n",
        "import numpy as np\n",
        "from random import randint\n",
        "from sklearn.feature_extraction.text import TfidfVectorizer, CountVectorizer\n",
        "from sklearn.metrics.pairwise import linear_kernel, cosine_similarity\n",
        "from surprise import SVD, Dataset, Reader\n",
        "\n",
        "import warnings; warnings.simplefilter('ignore')\n"
      ],
      "execution_count": 219,
      "outputs": []
    },
    {
      "cell_type": "code",
      "metadata": {
        "colab": {
          "base_uri": "https://localhost:8080/"
        },
        "id": "X5utV8EXpnE9",
        "outputId": "80d29bb8-6080-4c76-b255-64c08fcb0705"
      },
      "source": [
        "movies = pd.read_csv('tmdb_5000_movies.csv')\n",
        "\n",
        "print(movies.info())"
      ],
      "execution_count": 220,
      "outputs": [
        {
          "output_type": "stream",
          "name": "stdout",
          "text": [
            "<class 'pandas.core.frame.DataFrame'>\n",
            "RangeIndex: 4803 entries, 0 to 4802\n",
            "Data columns (total 20 columns):\n",
            " #   Column                Non-Null Count  Dtype  \n",
            "---  ------                --------------  -----  \n",
            " 0   budget                4803 non-null   int64  \n",
            " 1   genres                4803 non-null   object \n",
            " 2   homepage              1712 non-null   object \n",
            " 3   id                    4803 non-null   int64  \n",
            " 4   keywords              4803 non-null   object \n",
            " 5   original_language     4803 non-null   object \n",
            " 6   original_title        4803 non-null   object \n",
            " 7   overview              4800 non-null   object \n",
            " 8   popularity            4803 non-null   float64\n",
            " 9   production_companies  4803 non-null   object \n",
            " 10  production_countries  4803 non-null   object \n",
            " 11  release_date          4802 non-null   object \n",
            " 12  revenue               4803 non-null   int64  \n",
            " 13  runtime               4801 non-null   float64\n",
            " 14  spoken_languages      4803 non-null   object \n",
            " 15  status                4803 non-null   object \n",
            " 16  tagline               3959 non-null   object \n",
            " 17  title                 4803 non-null   object \n",
            " 18  vote_average          4803 non-null   float64\n",
            " 19  vote_count            4803 non-null   int64  \n",
            "dtypes: float64(3), int64(4), object(13)\n",
            "memory usage: 750.6+ KB\n",
            "None\n"
          ]
        }
      ]
    },
    {
      "cell_type": "markdown",
      "metadata": {
        "id": "yM3Zt1D6qc00"
      },
      "source": [
        "# **Clasificaciones por género**\n",
        "\n",
        "Para el primer manejo sobre los datos de este dataset clasificaremos nuestras películas.\n",
        "\n",
        "Se hará de dos maneras distintas y que presentan distinta practicidad desde el punto de vista del que analizará los datos, o para su tratamiento posterior."
      ]
    },
    {
      "cell_type": "markdown",
      "metadata": {
        "id": "BDUVDRjwrHk8"
      },
      "source": [
        "**1. Poner a que género corresponde cada película**\n",
        "\n",
        "Para ello se creará un dataframe con las peliculas y cada columna será un género. Si la película tiene este género asociado en la columna aparece un 1 y si no lo tiene un 0.\n"
      ]
    },
    {
      "cell_type": "code",
      "metadata": {
        "id": "U6IIu_-KrmTW"
      },
      "source": [
        "# por practicidad usaremos para el ejemplo sólo 5 pelis\n",
        "cabeza = movies.head() \n",
        "\n",
        "titles = cabeza[\"title\"]\n",
        "genres = movies[\"genres\"]\n",
        "\n",
        "# usamos un set, para evitar las repeticiones\n",
        "generos = set()\n",
        "\n",
        "# metemos al set los distintos generos\n",
        "for i in range(len(genres)):\n",
        " salida = ast.literal_eval(genres[i])\n",
        " for j in range(len(salida)):\n",
        "  generos.add(salida[j][\"name\"])\n",
        "\n",
        "# la convertimos a lista para que su manejo sea más \n",
        "# facil a la hora de armar el DF\n",
        "generos = list(generos) \n",
        "generos = sorted(generos) \n",
        "\n",
        "# creamos el nuevo dataframe con nuestras pelis como \n",
        "# filas y los géneros como columnas\n",
        "df = pd.DataFrame(index=titles ,columns=generos)\n"
      ],
      "execution_count": 221,
      "outputs": []
    },
    {
      "cell_type": "markdown",
      "metadata": {
        "id": "VGPYpxZfwPdi"
      },
      "source": [
        "Una función que nos será útil es la de rellenar las columnas con 1 o 0, el objetivo aquí es hacer esta parte del código un poco más reutilizable. El único aspecto negativo es que sólo se utilizará en los posibles casos para esta presentación de los datos"
      ]
    },
    {
      "cell_type": "code",
      "metadata": {
        "colab": {
          "base_uri": "https://localhost:8080/",
          "height": 396
        },
        "id": "1XOcfzB-wO-U",
        "outputId": "aaba6760-0a9c-4376-fc85-7fa687653e28"
      },
      "source": [
        "\n",
        "def rellenar_columnas(dataframe):\n",
        "  # aplicamos la longitud del dataframe \n",
        "  # para que no se salga de rango\n",
        "  for i in range(len(dataframe)):\n",
        "    literales = ast.literal_eval(genres[i])\n",
        "    generos_para_peli = set()\n",
        "\n",
        "    for j in range(len(literales)):\n",
        "      generos_para_peli.add(literales[j]['name'])\n",
        "    \n",
        "    generos_para_peli = list(generos_para_peli)\n",
        "\n",
        "    for genero in generos_para_peli:\n",
        "      dataframe.iloc[i][genero] = 1\n",
        "      \n",
        "  #poner el resto de columnas que están en NaN a 0\n",
        "    for column in dataframe.columns:\n",
        "      if(np.isnan(dataframe.iloc[i][column])):\n",
        "        dataframe.iloc[i][column] = 0\n",
        "\n",
        "  return dataframe\n",
        "\n",
        "df = rellenar_columnas(df)\n",
        "\n",
        "df # ahora podemos visualizar el dataframe resultante \n"
      ],
      "execution_count": 222,
      "outputs": [
        {
          "output_type": "execute_result",
          "data": {
            "text/html": [
              "<div>\n",
              "<style scoped>\n",
              "    .dataframe tbody tr th:only-of-type {\n",
              "        vertical-align: middle;\n",
              "    }\n",
              "\n",
              "    .dataframe tbody tr th {\n",
              "        vertical-align: top;\n",
              "    }\n",
              "\n",
              "    .dataframe thead th {\n",
              "        text-align: right;\n",
              "    }\n",
              "</style>\n",
              "<table border=\"1\" class=\"dataframe\">\n",
              "  <thead>\n",
              "    <tr style=\"text-align: right;\">\n",
              "      <th></th>\n",
              "      <th>Action</th>\n",
              "      <th>Adventure</th>\n",
              "      <th>Animation</th>\n",
              "      <th>Comedy</th>\n",
              "      <th>Crime</th>\n",
              "      <th>Documentary</th>\n",
              "      <th>Drama</th>\n",
              "      <th>Family</th>\n",
              "      <th>Fantasy</th>\n",
              "      <th>Foreign</th>\n",
              "      <th>History</th>\n",
              "      <th>Horror</th>\n",
              "      <th>Music</th>\n",
              "      <th>Mystery</th>\n",
              "      <th>Romance</th>\n",
              "      <th>Science Fiction</th>\n",
              "      <th>TV Movie</th>\n",
              "      <th>Thriller</th>\n",
              "      <th>War</th>\n",
              "      <th>Western</th>\n",
              "    </tr>\n",
              "    <tr>\n",
              "      <th>title</th>\n",
              "      <th></th>\n",
              "      <th></th>\n",
              "      <th></th>\n",
              "      <th></th>\n",
              "      <th></th>\n",
              "      <th></th>\n",
              "      <th></th>\n",
              "      <th></th>\n",
              "      <th></th>\n",
              "      <th></th>\n",
              "      <th></th>\n",
              "      <th></th>\n",
              "      <th></th>\n",
              "      <th></th>\n",
              "      <th></th>\n",
              "      <th></th>\n",
              "      <th></th>\n",
              "      <th></th>\n",
              "      <th></th>\n",
              "      <th></th>\n",
              "    </tr>\n",
              "  </thead>\n",
              "  <tbody>\n",
              "    <tr>\n",
              "      <th>Avatar</th>\n",
              "      <td>1</td>\n",
              "      <td>1</td>\n",
              "      <td>0</td>\n",
              "      <td>0</td>\n",
              "      <td>0</td>\n",
              "      <td>0</td>\n",
              "      <td>0</td>\n",
              "      <td>0</td>\n",
              "      <td>1</td>\n",
              "      <td>0</td>\n",
              "      <td>0</td>\n",
              "      <td>0</td>\n",
              "      <td>0</td>\n",
              "      <td>0</td>\n",
              "      <td>0</td>\n",
              "      <td>1</td>\n",
              "      <td>0</td>\n",
              "      <td>0</td>\n",
              "      <td>0</td>\n",
              "      <td>0</td>\n",
              "    </tr>\n",
              "    <tr>\n",
              "      <th>Pirates of the Caribbean: At World's End</th>\n",
              "      <td>1</td>\n",
              "      <td>1</td>\n",
              "      <td>0</td>\n",
              "      <td>0</td>\n",
              "      <td>0</td>\n",
              "      <td>0</td>\n",
              "      <td>0</td>\n",
              "      <td>0</td>\n",
              "      <td>1</td>\n",
              "      <td>0</td>\n",
              "      <td>0</td>\n",
              "      <td>0</td>\n",
              "      <td>0</td>\n",
              "      <td>0</td>\n",
              "      <td>0</td>\n",
              "      <td>0</td>\n",
              "      <td>0</td>\n",
              "      <td>0</td>\n",
              "      <td>0</td>\n",
              "      <td>0</td>\n",
              "    </tr>\n",
              "    <tr>\n",
              "      <th>Spectre</th>\n",
              "      <td>1</td>\n",
              "      <td>1</td>\n",
              "      <td>0</td>\n",
              "      <td>0</td>\n",
              "      <td>1</td>\n",
              "      <td>0</td>\n",
              "      <td>0</td>\n",
              "      <td>0</td>\n",
              "      <td>0</td>\n",
              "      <td>0</td>\n",
              "      <td>0</td>\n",
              "      <td>0</td>\n",
              "      <td>0</td>\n",
              "      <td>0</td>\n",
              "      <td>0</td>\n",
              "      <td>0</td>\n",
              "      <td>0</td>\n",
              "      <td>0</td>\n",
              "      <td>0</td>\n",
              "      <td>0</td>\n",
              "    </tr>\n",
              "    <tr>\n",
              "      <th>The Dark Knight Rises</th>\n",
              "      <td>1</td>\n",
              "      <td>0</td>\n",
              "      <td>0</td>\n",
              "      <td>0</td>\n",
              "      <td>1</td>\n",
              "      <td>0</td>\n",
              "      <td>1</td>\n",
              "      <td>0</td>\n",
              "      <td>0</td>\n",
              "      <td>0</td>\n",
              "      <td>0</td>\n",
              "      <td>0</td>\n",
              "      <td>0</td>\n",
              "      <td>0</td>\n",
              "      <td>0</td>\n",
              "      <td>0</td>\n",
              "      <td>0</td>\n",
              "      <td>1</td>\n",
              "      <td>0</td>\n",
              "      <td>0</td>\n",
              "    </tr>\n",
              "    <tr>\n",
              "      <th>John Carter</th>\n",
              "      <td>1</td>\n",
              "      <td>1</td>\n",
              "      <td>0</td>\n",
              "      <td>0</td>\n",
              "      <td>0</td>\n",
              "      <td>0</td>\n",
              "      <td>0</td>\n",
              "      <td>0</td>\n",
              "      <td>0</td>\n",
              "      <td>0</td>\n",
              "      <td>0</td>\n",
              "      <td>0</td>\n",
              "      <td>0</td>\n",
              "      <td>0</td>\n",
              "      <td>0</td>\n",
              "      <td>1</td>\n",
              "      <td>0</td>\n",
              "      <td>0</td>\n",
              "      <td>0</td>\n",
              "      <td>0</td>\n",
              "    </tr>\n",
              "  </tbody>\n",
              "</table>\n",
              "</div>"
            ],
            "text/plain": [
              "                                         Action Adventure  ... War Western\n",
              "title                                                      ...            \n",
              "Avatar                                        1         1  ...   0       0\n",
              "Pirates of the Caribbean: At World's End      1         1  ...   0       0\n",
              "Spectre                                       1         1  ...   0       0\n",
              "The Dark Knight Rises                         1         0  ...   0       0\n",
              "John Carter                                   1         1  ...   0       0\n",
              "\n",
              "[5 rows x 20 columns]"
            ]
          },
          "metadata": {},
          "execution_count": 222
        }
      ]
    },
    {
      "cell_type": "markdown",
      "metadata": {
        "id": "cfoeAN3JsUGE"
      },
      "source": [
        "Una funcionalidad cómoda y que se puede aplicar a mayores es ver directamente la fila con la película elegida por el usuario, para ello se aplicará la siguiente función que tomará el nombre de película como entrada."
      ]
    },
    {
      "cell_type": "code",
      "metadata": {
        "colab": {
          "base_uri": "https://localhost:8080/",
          "height": 136
        },
        "id": "f7Ry6al1sufi",
        "outputId": "fdbcc2d4-3802-4fa3-e437-0cc8452614d7"
      },
      "source": [
        "nombre = input(\"Inserte el nombre de la película(igual que en el dataframe anterior), se mostrará la fila: \")\n",
        "\n",
        "def get_fila(nombre):\n",
        "  for i in range(len(df)):\n",
        "    nombre_actual = df.iloc[i].name\n",
        "    if nombre_actual == nombre:\n",
        "      row = pd.DataFrame(index=[nombre_actual] ,columns=generos)\n",
        "      row = rellenar_columnas(row)\n",
        "      return row\n",
        "\n",
        "get_fila(nombre)\n",
        "\n"
      ],
      "execution_count": 223,
      "outputs": [
        {
          "name": "stdout",
          "output_type": "stream",
          "text": [
            "Inserte el nombre de la película(igual que en el dataframe anterior), se mostrará la fila: Avatar\n"
          ]
        },
        {
          "output_type": "execute_result",
          "data": {
            "text/html": [
              "<div>\n",
              "<style scoped>\n",
              "    .dataframe tbody tr th:only-of-type {\n",
              "        vertical-align: middle;\n",
              "    }\n",
              "\n",
              "    .dataframe tbody tr th {\n",
              "        vertical-align: top;\n",
              "    }\n",
              "\n",
              "    .dataframe thead th {\n",
              "        text-align: right;\n",
              "    }\n",
              "</style>\n",
              "<table border=\"1\" class=\"dataframe\">\n",
              "  <thead>\n",
              "    <tr style=\"text-align: right;\">\n",
              "      <th></th>\n",
              "      <th>Action</th>\n",
              "      <th>Adventure</th>\n",
              "      <th>Animation</th>\n",
              "      <th>Comedy</th>\n",
              "      <th>Crime</th>\n",
              "      <th>Documentary</th>\n",
              "      <th>Drama</th>\n",
              "      <th>Family</th>\n",
              "      <th>Fantasy</th>\n",
              "      <th>Foreign</th>\n",
              "      <th>History</th>\n",
              "      <th>Horror</th>\n",
              "      <th>Music</th>\n",
              "      <th>Mystery</th>\n",
              "      <th>Romance</th>\n",
              "      <th>Science Fiction</th>\n",
              "      <th>TV Movie</th>\n",
              "      <th>Thriller</th>\n",
              "      <th>War</th>\n",
              "      <th>Western</th>\n",
              "    </tr>\n",
              "  </thead>\n",
              "  <tbody>\n",
              "    <tr>\n",
              "      <th>Avatar</th>\n",
              "      <td>1</td>\n",
              "      <td>1</td>\n",
              "      <td>0</td>\n",
              "      <td>0</td>\n",
              "      <td>0</td>\n",
              "      <td>0</td>\n",
              "      <td>0</td>\n",
              "      <td>0</td>\n",
              "      <td>1</td>\n",
              "      <td>0</td>\n",
              "      <td>0</td>\n",
              "      <td>0</td>\n",
              "      <td>0</td>\n",
              "      <td>0</td>\n",
              "      <td>0</td>\n",
              "      <td>1</td>\n",
              "      <td>0</td>\n",
              "      <td>0</td>\n",
              "      <td>0</td>\n",
              "      <td>0</td>\n",
              "    </tr>\n",
              "  </tbody>\n",
              "</table>\n",
              "</div>"
            ],
            "text/plain": [
              "       Action Adventure Animation Comedy  ... TV Movie Thriller War Western\n",
              "Avatar      1         1         0      0  ...        0        0   0       0\n",
              "\n",
              "[1 rows x 20 columns]"
            ]
          },
          "metadata": {},
          "execution_count": 223
        }
      ]
    },
    {
      "cell_type": "markdown",
      "metadata": {
        "id": "8t_GlrkUzxIJ"
      },
      "source": [
        "**2. Asociar películas a generos**\n",
        "\n",
        "Aqui se define la siguiente función, esta retornará un diccionario cuyas claves son los géneros y los valores son listas con las peliculas pertenecientes a ese género. Esta funcionalidad permite poder clasificar más facilmente a las películas por su género\n"
      ]
    },
    {
      "cell_type": "code",
      "metadata": {
        "id": "suCz2M5s0RlY",
        "colab": {
          "base_uri": "https://localhost:8080/"
        },
        "outputId": "4d12f45f-cf02-463d-caa8-fa713b6a8ff6"
      },
      "source": [
        "df_generos = pd.DataFrame(index=generos)\n",
        "\n",
        "def pelis_por_genero():\n",
        "  relaciones_gen_peli = dict()\n",
        "\n",
        "  for i in range(len(df_generos)):\n",
        "    pelis_asociadas_genero = list(df_generos.iloc[i])\n",
        "    genero = df_generos.iloc[i].name # me devuelve el nombre del genero\n",
        "    \n",
        "    for j in range(len(df)):\n",
        "      genero_asociado = df.iloc[j][genero]\n",
        "      if genero_asociado == 1:\n",
        "        pelis_asociadas_genero.append(df.iloc[j].name)\n",
        "      \n",
        "    relaciones_gen_peli.update({genero:pelis_asociadas_genero})\n",
        "\n",
        "  return relaciones_gen_peli\n",
        "\n",
        "diccionario_generos = pelis_por_genero()\n",
        "\n",
        "diccionario_generos # Observamos el diccionario con las asociaciones\n",
        "\n",
        "# Nota: Habrán géneros que tendrán la lista vacía ya que de principio\n",
        "# se usan muy pocas películas por practicidad en los ejemplos"
      ],
      "execution_count": 224,
      "outputs": [
        {
          "output_type": "execute_result",
          "data": {
            "text/plain": [
              "{'Action': ['Avatar',\n",
              "  \"Pirates of the Caribbean: At World's End\",\n",
              "  'Spectre',\n",
              "  'The Dark Knight Rises',\n",
              "  'John Carter'],\n",
              " 'Adventure': ['Avatar',\n",
              "  \"Pirates of the Caribbean: At World's End\",\n",
              "  'Spectre',\n",
              "  'John Carter'],\n",
              " 'Animation': [],\n",
              " 'Comedy': [],\n",
              " 'Crime': ['Spectre', 'The Dark Knight Rises'],\n",
              " 'Documentary': [],\n",
              " 'Drama': ['The Dark Knight Rises'],\n",
              " 'Family': [],\n",
              " 'Fantasy': ['Avatar', \"Pirates of the Caribbean: At World's End\"],\n",
              " 'Foreign': [],\n",
              " 'History': [],\n",
              " 'Horror': [],\n",
              " 'Music': [],\n",
              " 'Mystery': [],\n",
              " 'Romance': [],\n",
              " 'Science Fiction': ['Avatar', 'John Carter'],\n",
              " 'TV Movie': [],\n",
              " 'Thriller': ['The Dark Knight Rises'],\n",
              " 'War': [],\n",
              " 'Western': []}"
            ]
          },
          "metadata": {},
          "execution_count": 224
        }
      ]
    },
    {
      "cell_type": "markdown",
      "metadata": {
        "id": "t8uXlcic1YRq"
      },
      "source": [
        "# **Recuperar datos de mayor relevancia desde el dataset**\n",
        "\n",
        "Lo más común en estos sistemas es querer ver los datos asociados a la película, pero no todos, algunos de los datos que presenta el dataset sirven para hacer las operaciones de recomendación pero son irrelevantes para el usuario final. Por ello hemos decidido poner algunos de los datos más relevantes a la hora de ver una película en concreto."
      ]
    },
    {
      "cell_type": "code",
      "metadata": {
        "colab": {
          "base_uri": "https://localhost:8080/",
          "height": 237
        },
        "id": "MCX_4jYO2R1S",
        "outputId": "71ede6a1-12dd-4369-d1ef-3f57525a72b4"
      },
      "source": [
        "# Estos atributos son los más básicos, se pueden ampliar si se desea\n",
        "\n",
        "release_dates = movies[\"release_date\"]\n",
        "overviews = movies[\"overview\"]\n",
        "homepages = movies[\"homepage\"]\n",
        "languages = movies[\"original_language\"]\n",
        "\n",
        "columnas = [\"overview\", \"release date\", \"homepage\", \"original language\"]\n",
        "\n",
        "df_movies = pd.DataFrame(index=titles, columns=columnas)\n",
        "\n",
        "# aplicamos el mismo principio de antes para poner a cada peli sus datos \n",
        "\n",
        "for i in range(len(df_movies)):\n",
        "  df_movies.iloc[i][\"overview\"] = overviews[i]\n",
        "  df_movies.iloc[i][\"release date\"] = release_dates[i]\n",
        "  df_movies.iloc[i][\"homepage\"] = homepages[i]\n",
        "  df_movies.iloc[i][\"original language\"] = languages[i]\n",
        "\n",
        "df_movies"
      ],
      "execution_count": 225,
      "outputs": [
        {
          "output_type": "execute_result",
          "data": {
            "text/html": [
              "<div>\n",
              "<style scoped>\n",
              "    .dataframe tbody tr th:only-of-type {\n",
              "        vertical-align: middle;\n",
              "    }\n",
              "\n",
              "    .dataframe tbody tr th {\n",
              "        vertical-align: top;\n",
              "    }\n",
              "\n",
              "    .dataframe thead th {\n",
              "        text-align: right;\n",
              "    }\n",
              "</style>\n",
              "<table border=\"1\" class=\"dataframe\">\n",
              "  <thead>\n",
              "    <tr style=\"text-align: right;\">\n",
              "      <th></th>\n",
              "      <th>overview</th>\n",
              "      <th>release date</th>\n",
              "      <th>homepage</th>\n",
              "      <th>original language</th>\n",
              "    </tr>\n",
              "    <tr>\n",
              "      <th>title</th>\n",
              "      <th></th>\n",
              "      <th></th>\n",
              "      <th></th>\n",
              "      <th></th>\n",
              "    </tr>\n",
              "  </thead>\n",
              "  <tbody>\n",
              "    <tr>\n",
              "      <th>Avatar</th>\n",
              "      <td>In the 22nd century, a paraplegic Marine is di...</td>\n",
              "      <td>2009-12-10</td>\n",
              "      <td>http://www.avatarmovie.com/</td>\n",
              "      <td>en</td>\n",
              "    </tr>\n",
              "    <tr>\n",
              "      <th>Pirates of the Caribbean: At World's End</th>\n",
              "      <td>Captain Barbossa, long believed to be dead, ha...</td>\n",
              "      <td>2007-05-19</td>\n",
              "      <td>http://disney.go.com/disneypictures/pirates/</td>\n",
              "      <td>en</td>\n",
              "    </tr>\n",
              "    <tr>\n",
              "      <th>Spectre</th>\n",
              "      <td>A cryptic message from Bond’s past sends him o...</td>\n",
              "      <td>2015-10-26</td>\n",
              "      <td>http://www.sonypictures.com/movies/spectre/</td>\n",
              "      <td>en</td>\n",
              "    </tr>\n",
              "    <tr>\n",
              "      <th>The Dark Knight Rises</th>\n",
              "      <td>Following the death of District Attorney Harve...</td>\n",
              "      <td>2012-07-16</td>\n",
              "      <td>http://www.thedarkknightrises.com/</td>\n",
              "      <td>en</td>\n",
              "    </tr>\n",
              "    <tr>\n",
              "      <th>John Carter</th>\n",
              "      <td>John Carter is a war-weary, former military ca...</td>\n",
              "      <td>2012-03-07</td>\n",
              "      <td>http://movies.disney.com/john-carter</td>\n",
              "      <td>en</td>\n",
              "    </tr>\n",
              "  </tbody>\n",
              "</table>\n",
              "</div>"
            ],
            "text/plain": [
              "                                                                                   overview  ... original language\n",
              "title                                                                                        ...                  \n",
              "Avatar                                    In the 22nd century, a paraplegic Marine is di...  ...                en\n",
              "Pirates of the Caribbean: At World's End  Captain Barbossa, long believed to be dead, ha...  ...                en\n",
              "Spectre                                   A cryptic message from Bond’s past sends him o...  ...                en\n",
              "The Dark Knight Rises                     Following the death of District Attorney Harve...  ...                en\n",
              "John Carter                               John Carter is a war-weary, former military ca...  ...                en\n",
              "\n",
              "[5 rows x 4 columns]"
            ]
          },
          "metadata": {},
          "execution_count": 225
        }
      ]
    },
    {
      "cell_type": "markdown",
      "metadata": {
        "id": "_rGtJan72rbH"
      },
      "source": [
        "Nuevamente es conveniente hacer posible que el usuario inserte el nombre de una película y que salga la fila asociada a esta."
      ]
    },
    {
      "cell_type": "code",
      "metadata": {
        "id": "UsEKN3942z2r",
        "colab": {
          "base_uri": "https://localhost:8080/",
          "height": 99
        },
        "outputId": "f82352c5-74f7-42b5-e4de-e7eb10bfc610"
      },
      "source": [
        "nombre = input(\"Inserte el nombre de la película(igual que en el dataframe anterior), se mostrará la fila: \")\n",
        "\n",
        "def get_atributos_peli(nombre):\n",
        "  for i in range(len(df_movies)):\n",
        "    nombre_actual = df_movies.iloc[i].name\n",
        "    if nombre_actual == nombre:\n",
        "      row = pd.DataFrame(index=[nombre_actual] ,columns=columnas)\n",
        "      # metemos los datos en la fila\n",
        "      row.iloc[0][\"overview\"] = overviews[i]\n",
        "      row.iloc[0][\"release date\"] = release_dates[i]\n",
        "      row.iloc[0][\"homepage\"] = homepages[i]\n",
        "      row.iloc[0][\"original language\"] = languages[i]\n",
        "      return row\n",
        "\n",
        "get_atributos_peli(nombre)"
      ],
      "execution_count": 226,
      "outputs": [
        {
          "name": "stdout",
          "output_type": "stream",
          "text": [
            "Inserte el nombre de la película(igual que en el dataframe anterior), se mostrará la fila: Avatar\n"
          ]
        },
        {
          "output_type": "execute_result",
          "data": {
            "text/html": [
              "<div>\n",
              "<style scoped>\n",
              "    .dataframe tbody tr th:only-of-type {\n",
              "        vertical-align: middle;\n",
              "    }\n",
              "\n",
              "    .dataframe tbody tr th {\n",
              "        vertical-align: top;\n",
              "    }\n",
              "\n",
              "    .dataframe thead th {\n",
              "        text-align: right;\n",
              "    }\n",
              "</style>\n",
              "<table border=\"1\" class=\"dataframe\">\n",
              "  <thead>\n",
              "    <tr style=\"text-align: right;\">\n",
              "      <th></th>\n",
              "      <th>overview</th>\n",
              "      <th>release date</th>\n",
              "      <th>homepage</th>\n",
              "      <th>original language</th>\n",
              "    </tr>\n",
              "  </thead>\n",
              "  <tbody>\n",
              "    <tr>\n",
              "      <th>Avatar</th>\n",
              "      <td>In the 22nd century, a paraplegic Marine is di...</td>\n",
              "      <td>2009-12-10</td>\n",
              "      <td>http://www.avatarmovie.com/</td>\n",
              "      <td>en</td>\n",
              "    </tr>\n",
              "  </tbody>\n",
              "</table>\n",
              "</div>"
            ],
            "text/plain": [
              "                                                 overview  ... original language\n",
              "Avatar  In the 22nd century, a paraplegic Marine is di...  ...                en\n",
              "\n",
              "[1 rows x 4 columns]"
            ]
          },
          "metadata": {},
          "execution_count": 226
        }
      ]
    },
    {
      "cell_type": "markdown",
      "metadata": {
        "id": "8Zsyjodh5Knv"
      },
      "source": [
        "Otra forma de retornar los datos asociados a una película es ponerlos en una lista (puede ser más práctico según el caso)"
      ]
    },
    {
      "cell_type": "code",
      "metadata": {
        "id": "PL_Yr-4X5W3h",
        "colab": {
          "base_uri": "https://localhost:8080/"
        },
        "outputId": "662a1b94-400c-4be5-8bd6-bccda1574094"
      },
      "source": [
        "nombre = input(\"Inserte el nombre de la película(igual que en el dataframe anterior), se mostrará la fila: \")\n",
        "\n",
        "def peli_info(nombre):\n",
        "  pelis_con_atributos = dict()\n",
        "\n",
        "  for i in range(len(df_movies)):\n",
        "    nombre_peli = df_movies.iloc[i].name\n",
        "    atributos = list(df_movies.iloc[i])\n",
        "    pelis_con_atributos.update({nombre_peli:atributos})\n",
        "\n",
        "  return pelis_con_atributos[nombre]\n",
        "\n",
        "peli_info(nombre)"
      ],
      "execution_count": 227,
      "outputs": [
        {
          "name": "stdout",
          "output_type": "stream",
          "text": [
            "Inserte el nombre de la película(igual que en el dataframe anterior), se mostrará la fila: Avatar\n"
          ]
        },
        {
          "output_type": "execute_result",
          "data": {
            "text/plain": [
              "['In the 22nd century, a paraplegic Marine is dispatched to the moon Pandora on a unique mission, but becomes torn between following orders and protecting an alien civilization.',\n",
              " '2009-12-10',\n",
              " 'http://www.avatarmovie.com/',\n",
              " 'en']"
            ]
          },
          "metadata": {},
          "execution_count": 227
        }
      ]
    },
    {
      "cell_type": "markdown",
      "metadata": {
        "id": "Pn7FQ_qf57Ts"
      },
      "source": [
        "# **Implementación del sistema de recomendación**\n",
        "\n",
        "Para este apartado utilizaremos los siguientes métodos distintos para tener un sistema bastante completo:\n",
        "\n",
        "- Recomendaciones basadas en la descripción\n",
        "- Recomendaciones por popularidad y rating\n",
        "- Recomendaciones por usuario usando filtrado híbrido"
      ]
    },
    {
      "cell_type": "markdown",
      "metadata": {
        "id": "iWXKfqAk64Rq"
      },
      "source": [
        "**1. Recomendaciones basadas en la descripción**\n",
        "\n",
        "Usando las descripciones se relacionarán varias películas para mostrarles al usuario. Haremos la carga de otro Dataset de películas que es un poco más completo y contiene un montón de datos importantes para nuestro sistema de recomendación.\n"
      ]
    },
    {
      "cell_type": "code",
      "metadata": {
        "colab": {
          "base_uri": "https://localhost:8080/"
        },
        "id": "fkxEajmo7T9t",
        "outputId": "3f322ccf-8eb0-499a-d7c3-af5ff43c69d4"
      },
      "source": [
        "mv_metadata = pd.read_csv('movies_metadata.csv')\n",
        "print(mv_metadata.info())"
      ],
      "execution_count": 228,
      "outputs": [
        {
          "output_type": "stream",
          "name": "stdout",
          "text": [
            "<class 'pandas.core.frame.DataFrame'>\n",
            "RangeIndex: 45466 entries, 0 to 45465\n",
            "Data columns (total 24 columns):\n",
            " #   Column                 Non-Null Count  Dtype  \n",
            "---  ------                 --------------  -----  \n",
            " 0   adult                  45466 non-null  object \n",
            " 1   belongs_to_collection  4494 non-null   object \n",
            " 2   budget                 45466 non-null  object \n",
            " 3   genres                 45466 non-null  object \n",
            " 4   homepage               7782 non-null   object \n",
            " 5   id                     45466 non-null  object \n",
            " 6   imdb_id                45449 non-null  object \n",
            " 7   original_language      45455 non-null  object \n",
            " 8   original_title         45466 non-null  object \n",
            " 9   overview               44512 non-null  object \n",
            " 10  popularity             45461 non-null  object \n",
            " 11  poster_path            45080 non-null  object \n",
            " 12  production_companies   45463 non-null  object \n",
            " 13  production_countries   45463 non-null  object \n",
            " 14  release_date           45379 non-null  object \n",
            " 15  revenue                45460 non-null  float64\n",
            " 16  runtime                45203 non-null  float64\n",
            " 17  spoken_languages       45460 non-null  object \n",
            " 18  status                 45379 non-null  object \n",
            " 19  tagline                20412 non-null  object \n",
            " 20  title                  45460 non-null  object \n",
            " 21  video                  45460 non-null  object \n",
            " 22  vote_average           45460 non-null  float64\n",
            " 23  vote_count             45460 non-null  float64\n",
            "dtypes: float64(4), object(20)\n",
            "memory usage: 8.3+ MB\n",
            "None\n"
          ]
        }
      ]
    },
    {
      "cell_type": "markdown",
      "metadata": {
        "id": "0AjDfDGHCP0O"
      },
      "source": [
        "Para realizar las operaciones también haremos uso de un dataset auxiliar, el cual contiene las relaciones por id de las peliculas en dos datasets distintos"
      ]
    },
    {
      "cell_type": "code",
      "metadata": {
        "colab": {
          "base_uri": "https://localhost:8080/"
        },
        "id": "_ugIvjFPCQrV",
        "outputId": "b9cdf861-31c9-48e7-f907-3c1ff0baa4ed"
      },
      "source": [
        "links_small = pd.read_csv('links_small.csv')\n",
        "\n",
        "# realizamos una conversion de tipos\n",
        "# ya que los valores de interes están como string\n",
        "links_small = links_small[links_small['tmdbId'].notnull()]['tmdbId'].astype('int')\n",
        "\n",
        "mv_metadata = mv_metadata.drop([19730, 29503, 35587])\n",
        "\n",
        "mv_metadata['id'] = mv_metadata['id'].astype('int')\n",
        "\n",
        "# tenemos el dataframe con los datos relacionados\n",
        "small_mv_metadata = mv_metadata[mv_metadata['id'].isin(links_small)]\n",
        "\n",
        "print(small_mv_metadata.info()) # visualizar que datos tiene"
      ],
      "execution_count": 229,
      "outputs": [
        {
          "output_type": "stream",
          "name": "stdout",
          "text": [
            "<class 'pandas.core.frame.DataFrame'>\n",
            "Int64Index: 9099 entries, 0 to 45265\n",
            "Data columns (total 24 columns):\n",
            " #   Column                 Non-Null Count  Dtype  \n",
            "---  ------                 --------------  -----  \n",
            " 0   adult                  9099 non-null   object \n",
            " 1   belongs_to_collection  1674 non-null   object \n",
            " 2   budget                 9099 non-null   object \n",
            " 3   genres                 9099 non-null   object \n",
            " 4   homepage               1974 non-null   object \n",
            " 5   id                     9099 non-null   int64  \n",
            " 6   imdb_id                9099 non-null   object \n",
            " 7   original_language      9099 non-null   object \n",
            " 8   original_title         9099 non-null   object \n",
            " 9   overview               9087 non-null   object \n",
            " 10  popularity             9099 non-null   object \n",
            " 11  poster_path            9096 non-null   object \n",
            " 12  production_companies   9099 non-null   object \n",
            " 13  production_countries   9099 non-null   object \n",
            " 14  release_date           9099 non-null   object \n",
            " 15  revenue                9099 non-null   float64\n",
            " 16  runtime                9099 non-null   float64\n",
            " 17  spoken_languages       9099 non-null   object \n",
            " 18  status                 9097 non-null   object \n",
            " 19  tagline                7033 non-null   object \n",
            " 20  title                  9099 non-null   object \n",
            " 21  video                  9099 non-null   object \n",
            " 22  vote_average           9099 non-null   float64\n",
            " 23  vote_count             9099 non-null   float64\n",
            "dtypes: float64(4), int64(1), object(19)\n",
            "memory usage: 1.7+ MB\n",
            "None\n"
          ]
        }
      ]
    },
    {
      "cell_type": "markdown",
      "metadata": {
        "id": "XPAmK8q1Crrk"
      },
      "source": [
        "Para construir relaciones entre una pelicula dada usaremos los atributos 'description' y 'tagline' del dataset que hemos construido antes (small_mv_metadata). A continuación, usaremos la función para la similaridad del coseno incluida en python, la cual a través de una matriz de palabras realizará las relaciones"
      ]
    },
    {
      "cell_type": "code",
      "metadata": {
        "id": "VbAVOEgbC9zo"
      },
      "source": [
        "small_mv_metadata['tagline'] = small_mv_metadata['tagline'].fillna('')\n",
        "small_mv_metadata['description'] = small_mv_metadata['overview'] + small_mv_metadata['tagline']\n",
        "small_mv_metadata['description'] = small_mv_metadata['description'].fillna('')\n",
        "\n",
        "tf = TfidfVectorizer(analyzer='word',ngram_range=(1, 2),min_df=0, stop_words='english')\n",
        "tfidf_matrix = tf.fit_transform(small_mv_metadata['description'])\n",
        "\n",
        "small_mv_metadata = small_mv_metadata.reset_index()\n",
        "titles = small_mv_metadata['title']\n",
        "indices = pd.Series(small_mv_metadata.index, index=small_mv_metadata['title'])\n",
        "\n",
        "cosine_sim = linear_kernel(tfidf_matrix, tfidf_matrix)"
      ],
      "execution_count": 230,
      "outputs": []
    },
    {
      "cell_type": "markdown",
      "metadata": {
        "id": "59h5CIvmDMsZ"
      },
      "source": [
        "Por último, para que sea mucho más sencillo el uso se creará una funcion para obtener las recomendaciones basadas en el título pasado como argumento. Antes que nada, pondrémos un dataframe con algunos títulos de películas para que sirvan de guía."
      ]
    },
    {
      "cell_type": "code",
      "metadata": {
        "colab": {
          "base_uri": "https://localhost:8080/",
          "height": 520
        },
        "id": "9lBRgbJ4D_-z",
        "outputId": "7be30be5-5950-4bfd-e38a-10a4c91d7ea3"
      },
      "source": [
        "small_mv_metadata[['title', 'description']].head(15)"
      ],
      "execution_count": 231,
      "outputs": [
        {
          "output_type": "execute_result",
          "data": {
            "text/html": [
              "<div>\n",
              "<style scoped>\n",
              "    .dataframe tbody tr th:only-of-type {\n",
              "        vertical-align: middle;\n",
              "    }\n",
              "\n",
              "    .dataframe tbody tr th {\n",
              "        vertical-align: top;\n",
              "    }\n",
              "\n",
              "    .dataframe thead th {\n",
              "        text-align: right;\n",
              "    }\n",
              "</style>\n",
              "<table border=\"1\" class=\"dataframe\">\n",
              "  <thead>\n",
              "    <tr style=\"text-align: right;\">\n",
              "      <th></th>\n",
              "      <th>title</th>\n",
              "      <th>description</th>\n",
              "    </tr>\n",
              "  </thead>\n",
              "  <tbody>\n",
              "    <tr>\n",
              "      <th>0</th>\n",
              "      <td>Toy Story</td>\n",
              "      <td>Led by Woody, Andy's toys live happily in his ...</td>\n",
              "    </tr>\n",
              "    <tr>\n",
              "      <th>1</th>\n",
              "      <td>Jumanji</td>\n",
              "      <td>When siblings Judy and Peter discover an encha...</td>\n",
              "    </tr>\n",
              "    <tr>\n",
              "      <th>2</th>\n",
              "      <td>Grumpier Old Men</td>\n",
              "      <td>A family wedding reignites the ancient feud be...</td>\n",
              "    </tr>\n",
              "    <tr>\n",
              "      <th>3</th>\n",
              "      <td>Waiting to Exhale</td>\n",
              "      <td>Cheated on, mistreated and stepped on, the wom...</td>\n",
              "    </tr>\n",
              "    <tr>\n",
              "      <th>4</th>\n",
              "      <td>Father of the Bride Part II</td>\n",
              "      <td>Just when George Banks has recovered from his ...</td>\n",
              "    </tr>\n",
              "    <tr>\n",
              "      <th>5</th>\n",
              "      <td>Heat</td>\n",
              "      <td>Obsessive master thief, Neil McCauley leads a ...</td>\n",
              "    </tr>\n",
              "    <tr>\n",
              "      <th>6</th>\n",
              "      <td>Sabrina</td>\n",
              "      <td>An ugly duckling having undergone a remarkable...</td>\n",
              "    </tr>\n",
              "    <tr>\n",
              "      <th>7</th>\n",
              "      <td>Tom and Huck</td>\n",
              "      <td>A mischievous young boy, Tom Sawyer, witnesses...</td>\n",
              "    </tr>\n",
              "    <tr>\n",
              "      <th>8</th>\n",
              "      <td>Sudden Death</td>\n",
              "      <td>International action superstar Jean Claude Van...</td>\n",
              "    </tr>\n",
              "    <tr>\n",
              "      <th>9</th>\n",
              "      <td>GoldenEye</td>\n",
              "      <td>James Bond must unmask the mysterious head of ...</td>\n",
              "    </tr>\n",
              "    <tr>\n",
              "      <th>10</th>\n",
              "      <td>The American President</td>\n",
              "      <td>Widowed U.S. president Andrew Shepherd, one of...</td>\n",
              "    </tr>\n",
              "    <tr>\n",
              "      <th>11</th>\n",
              "      <td>Dracula: Dead and Loving It</td>\n",
              "      <td>When a lawyer shows up at the vampire's doorst...</td>\n",
              "    </tr>\n",
              "    <tr>\n",
              "      <th>12</th>\n",
              "      <td>Balto</td>\n",
              "      <td>An outcast half-wolf risks his life to prevent...</td>\n",
              "    </tr>\n",
              "    <tr>\n",
              "      <th>13</th>\n",
              "      <td>Nixon</td>\n",
              "      <td>An all-star cast powers this epic look at Amer...</td>\n",
              "    </tr>\n",
              "    <tr>\n",
              "      <th>14</th>\n",
              "      <td>Cutthroat Island</td>\n",
              "      <td>Morgan Adams and her slave, William Shaw, are ...</td>\n",
              "    </tr>\n",
              "  </tbody>\n",
              "</table>\n",
              "</div>"
            ],
            "text/plain": [
              "                          title                                        description\n",
              "0                     Toy Story  Led by Woody, Andy's toys live happily in his ...\n",
              "1                       Jumanji  When siblings Judy and Peter discover an encha...\n",
              "2              Grumpier Old Men  A family wedding reignites the ancient feud be...\n",
              "3             Waiting to Exhale  Cheated on, mistreated and stepped on, the wom...\n",
              "4   Father of the Bride Part II  Just when George Banks has recovered from his ...\n",
              "5                          Heat  Obsessive master thief, Neil McCauley leads a ...\n",
              "6                       Sabrina  An ugly duckling having undergone a remarkable...\n",
              "7                  Tom and Huck  A mischievous young boy, Tom Sawyer, witnesses...\n",
              "8                  Sudden Death  International action superstar Jean Claude Van...\n",
              "9                     GoldenEye  James Bond must unmask the mysterious head of ...\n",
              "10       The American President  Widowed U.S. president Andrew Shepherd, one of...\n",
              "11  Dracula: Dead and Loving It  When a lawyer shows up at the vampire's doorst...\n",
              "12                        Balto  An outcast half-wolf risks his life to prevent...\n",
              "13                        Nixon  An all-star cast powers this epic look at Amer...\n",
              "14             Cutthroat Island  Morgan Adams and her slave, William Shaw, are ..."
            ]
          },
          "metadata": {},
          "execution_count": 231
        }
      ]
    },
    {
      "cell_type": "markdown",
      "metadata": {
        "id": "e8pdDF-UEAhN"
      },
      "source": [
        "Ahora la función en cuestión"
      ]
    },
    {
      "cell_type": "code",
      "metadata": {
        "colab": {
          "base_uri": "https://localhost:8080/"
        },
        "id": "q0vIe_FpDNWZ",
        "outputId": "5bdc070f-e28c-4e4f-c7f1-4126c8a410c7"
      },
      "source": [
        "nombre = input(\"Inserte el nombre de la película(igual que en las tablas anteriores), se mostrará la fila: \")\n",
        "\n",
        "def recomendaciones_de(nombre):\n",
        "    idx = indices[nombre]\n",
        "    sim_scores = list(enumerate(cosine_sim[idx]))\n",
        "    sim_scores = sorted(sim_scores, key=lambda x: x[1], reverse=True)\n",
        "    sim_scores = sim_scores[1:31]\n",
        "    movie_indices = [i[0] for i in sim_scores]\n",
        "    return titles.iloc[movie_indices]\n",
        "\n",
        "print()\n",
        "recomendaciones_de(nombre).head(10) # mostramos sólo 10 para este ejemplo"
      ],
      "execution_count": 232,
      "outputs": [
        {
          "output_type": "stream",
          "name": "stdout",
          "text": [
            "Inserte el nombre de la película(igual que en las tablas anteriores), se mostrará la fila: Toy Story\n",
            "\n"
          ]
        },
        {
          "output_type": "execute_result",
          "data": {
            "text/plain": [
              "2502               Toy Story 2\n",
              "7535               Toy Story 3\n",
              "6193    The 40 Year Old Virgin\n",
              "2547           Man on the Moon\n",
              "6627              Factory Girl\n",
              "4702    What's Up, Tiger Lily?\n",
              "889      Rebel Without a Cause\n",
              "6554    For Your Consideration\n",
              "4988          Rivers and Tides\n",
              "1599                 Condorman\n",
              "Name: title, dtype: object"
            ]
          },
          "metadata": {},
          "execution_count": 232
        }
      ]
    },
    {
      "cell_type": "markdown",
      "metadata": {
        "id": "VB2PUPIQHE6B"
      },
      "source": [
        "**2. Recomendar películas por popularidad y ratings**\n",
        "\n",
        "Ahora no sólo recomendará peliculas que coincidan basadas en la descripción, sino que escogerá de esa relación cual tienen un rating más alto y mayor popularidad, generando una selección filmográfica mucho más completa y de mejor calidad.\n",
        "\n",
        "Utilizamos las clasificaciones de TMDB para crear nuestra tabla de películas principales. Usaremos la fórmula de calificación ponderada de IMDB para construir nuestro gráfico. Matemáticamente, se representa de la siguiente manera:\n",
        "\n",
        "Calificación ponderada (WR) = (vv + m.R) + (mv + m.C)\n",
        "dónde,\n",
        "\n",
        "- **v** es el número de votos para la película\n",
        "\n",
        "- **m** son los votos mínimos requeridos para aparecer en la tabla\n",
        "\n",
        "- **R** es la calificación promedio de la película\n",
        "\n",
        "- **C** es el voto medio de todo el informe\n",
        "\n",
        "Ahora tenemos que determinar un valor apropiado para m, los votos mínimos requeridos para aparecer en la tabla. Usaremos el percentil 95 como nuestro límite. En otras palabras, para que una película aparezca en las listas, debe tener más votos que al menos el 95% de las películas de la lista."
      ]
    },
    {
      "cell_type": "markdown",
      "metadata": {
        "id": "VKaTkHkaHYqD"
      },
      "source": [
        "Definimos la función en base a la fórmula anterior"
      ]
    },
    {
      "cell_type": "code",
      "metadata": {
        "id": "jY1lxcIfHSEL"
      },
      "source": [
        "vote_counts = mv_metadata[mv_metadata['vote_count'].notnull()]['vote_count'].astype('int')\n",
        "vote_averages = mv_metadata[mv_metadata['vote_average'].notnull()]['vote_average'].astype('int')\n",
        "C = vote_averages.mean()\n",
        "m = vote_counts.quantile(0.95)\n",
        "\n",
        "def calificacion_ponderada(x):\n",
        "    v = x['vote_count']\n",
        "    R = x['vote_average']\n",
        "    return (v/(v+m) * R) + (m/(m+v) * C)"
      ],
      "execution_count": 233,
      "outputs": []
    },
    {
      "cell_type": "markdown",
      "metadata": {
        "id": "du_oZEhPHqY2"
      },
      "source": [
        "A continuación la función que devolverá las películas relacionadas por rating (se recomienda usar la guía anterior para generar las entradas)"
      ]
    },
    {
      "cell_type": "code",
      "metadata": {
        "colab": {
          "base_uri": "https://localhost:8080/",
          "height": 323
        },
        "id": "Xhva1xIaIcfS",
        "outputId": "7663f50d-a57e-4bcc-8a71-f4c6398107cb"
      },
      "source": [
        "nombre = input(\"Inserte el nombre de la película(igual que en las tablas anteriores), se mostrará la fila: \")\n",
        "\n",
        "def pelis_popularidad(nombre):\n",
        "    idx = indices[nombre]\n",
        "    sim_scores = list(enumerate(cosine_sim[idx]))\n",
        "    sim_scores = sorted(sim_scores, key=lambda x: x[1], reverse=True)\n",
        "    sim_scores = sim_scores[1:26]\n",
        "    movie_indices = [i[0] for i in sim_scores]\n",
        "\n",
        "    #aqui viene el código nuevo que mejora a nuestra\n",
        "    #funcion anterior\n",
        "    pelis = small_mv_metadata.iloc[movie_indices][['title', 'vote_count', 'vote_average', 'release_date']]\n",
        "    vote_counts = pelis[pelis['vote_count'].notnull()]['vote_count'].astype('int')\n",
        "    vote_averages = pelis[pelis['vote_average'].notnull()]['vote_average'].astype('int')\n",
        "\n",
        "    vote_counts = pelis[pelis['vote_count'].notnull()]['vote_count'].astype('int')\n",
        "    vote_averages = pelis[pelis['vote_average'].notnull()]['vote_average'].astype('int')\n",
        "    \n",
        "    qualified = pelis[(pelis['vote_count'] >= m) & (pelis['vote_count'].notnull()) & (pelis['vote_average'].notnull())]\n",
        "\n",
        "    qualified['vote_count'] = qualified['vote_count'].astype('int')\n",
        "    qualified['vote_average'] = qualified['vote_average'].astype('int')\n",
        "\n",
        "    qualified['wr'] = qualified.apply(calificacion_ponderada, axis=1)\n",
        "    qualified = qualified.sort_values('wr', ascending=False)\n",
        "    return qualified\n",
        "\n",
        "print(\"\\n\")\n",
        "pelis_popularidad(nombre).head(10) # mostramos sólo 10 para este ejemplo\n",
        "\n",
        "# NOTA: puede que para algunas películas salgan menos de 10 recomendaciones"
      ],
      "execution_count": 234,
      "outputs": [
        {
          "output_type": "stream",
          "name": "stdout",
          "text": [
            "Inserte el nombre de la película(igual que en las tablas anteriores), se mostrará la fila: Toy Story\n",
            "\n",
            "\n"
          ]
        },
        {
          "output_type": "execute_result",
          "data": {
            "text/html": [
              "<div>\n",
              "<style scoped>\n",
              "    .dataframe tbody tr th:only-of-type {\n",
              "        vertical-align: middle;\n",
              "    }\n",
              "\n",
              "    .dataframe tbody tr th {\n",
              "        vertical-align: top;\n",
              "    }\n",
              "\n",
              "    .dataframe thead th {\n",
              "        text-align: right;\n",
              "    }\n",
              "</style>\n",
              "<table border=\"1\" class=\"dataframe\">\n",
              "  <thead>\n",
              "    <tr style=\"text-align: right;\">\n",
              "      <th></th>\n",
              "      <th>title</th>\n",
              "      <th>vote_count</th>\n",
              "      <th>vote_average</th>\n",
              "      <th>release_date</th>\n",
              "      <th>wr</th>\n",
              "    </tr>\n",
              "  </thead>\n",
              "  <tbody>\n",
              "    <tr>\n",
              "      <th>7535</th>\n",
              "      <td>Toy Story 3</td>\n",
              "      <td>4710</td>\n",
              "      <td>7</td>\n",
              "      <td>2010-06-16</td>\n",
              "      <td>6.851922</td>\n",
              "    </tr>\n",
              "    <tr>\n",
              "      <th>2502</th>\n",
              "      <td>Toy Story 2</td>\n",
              "      <td>3914</td>\n",
              "      <td>7</td>\n",
              "      <td>1999-10-30</td>\n",
              "      <td>6.824813</td>\n",
              "    </tr>\n",
              "    <tr>\n",
              "      <th>6290</th>\n",
              "      <td>Match Point</td>\n",
              "      <td>1134</td>\n",
              "      <td>7</td>\n",
              "      <td>2005-10-26</td>\n",
              "      <td>6.514212</td>\n",
              "    </tr>\n",
              "    <tr>\n",
              "      <th>994</th>\n",
              "      <td>Manhattan</td>\n",
              "      <td>600</td>\n",
              "      <td>7</td>\n",
              "      <td>1979-04-25</td>\n",
              "      <td>6.263332</td>\n",
              "    </tr>\n",
              "    <tr>\n",
              "      <th>6193</th>\n",
              "      <td>The 40 Year Old Virgin</td>\n",
              "      <td>2020</td>\n",
              "      <td>6</td>\n",
              "      <td>2005-08-11</td>\n",
              "      <td>5.866457</td>\n",
              "    </tr>\n",
              "    <tr>\n",
              "      <th>2547</th>\n",
              "      <td>Man on the Moon</td>\n",
              "      <td>444</td>\n",
              "      <td>6</td>\n",
              "      <td>1999-12-22</td>\n",
              "      <td>5.626748</td>\n",
              "    </tr>\n",
              "    <tr>\n",
              "      <th>4383</th>\n",
              "      <td>Maid in Manhattan</td>\n",
              "      <td>493</td>\n",
              "      <td>5</td>\n",
              "      <td>2002-12-13</td>\n",
              "      <td>5.114655</td>\n",
              "    </tr>\n",
              "  </tbody>\n",
              "</table>\n",
              "</div>"
            ],
            "text/plain": [
              "                       title  vote_count  vote_average release_date        wr\n",
              "7535             Toy Story 3        4710             7   2010-06-16  6.851922\n",
              "2502             Toy Story 2        3914             7   1999-10-30  6.824813\n",
              "6290             Match Point        1134             7   2005-10-26  6.514212\n",
              "994                Manhattan         600             7   1979-04-25  6.263332\n",
              "6193  The 40 Year Old Virgin        2020             6   2005-08-11  5.866457\n",
              "2547         Man on the Moon         444             6   1999-12-22  5.626748\n",
              "4383       Maid in Manhattan         493             5   2002-12-13  5.114655"
            ]
          },
          "metadata": {},
          "execution_count": 234
        }
      ]
    },
    {
      "cell_type": "markdown",
      "metadata": {
        "id": "S6QaSuSeNPY4"
      },
      "source": [
        "**3. Recomendaciones por usuario**\n",
        "\n",
        "Se usarán técnicas de filtrado híbrido, que combinan el filtrado colaborativo, para tener mucha más personalización, y las recomendaciones basadas en contenido. La función aceptará como argumentos un id de usuario y una pelicula, y mediante las técnicas antes mencionadas, aunque la película sea la misma, si el usuario es diferente se recomendarán películas distintas."
      ]
    },
    {
      "cell_type": "markdown",
      "metadata": {
        "id": "cX-iq3d0Nerj"
      },
      "source": [
        "Carga e inicialización de variables y datos necesarios para la parte de filtrado colaborativo"
      ]
    },
    {
      "cell_type": "code",
      "metadata": {
        "id": "3QSj96b4NnZy"
      },
      "source": [
        "ratings = pd.read_csv('ratings_small.csv')\n",
        "svd = SVD()\n",
        "reader = Reader()\n",
        "data = Dataset.load_from_df(ratings[['userId', 'movieId', 'rating']], reader)\n",
        "trainset = data.build_full_trainset()\n",
        "svd.fit(trainset)\n",
        "id_map = pd.read_csv('links_small.csv')[['movieId', 'tmdbId']]"
      ],
      "execution_count": 235,
      "outputs": []
    },
    {
      "cell_type": "markdown",
      "metadata": {
        "id": "6DPjzbRBOAJ4"
      },
      "source": [
        "Inicialización de variables y funciones necesarias para la parte híbrida"
      ]
    },
    {
      "cell_type": "code",
      "metadata": {
        "id": "TBcVtbMsOGyW"
      },
      "source": [
        "def convert_int(x):\n",
        "    try:\n",
        "        return int(x)\n",
        "    except:\n",
        "        return np.nan\n",
        "\n",
        "id_map['tmdbId'] = id_map['tmdbId'].apply(convert_int)\n",
        "id_map.columns = ['movieId', 'id']\n",
        "id_map = id_map.merge(small_mv_metadata[['title', 'id']], on='id').set_index('title')\n",
        "\n",
        "indices_map = id_map.set_index('id')"
      ],
      "execution_count": 236,
      "outputs": []
    },
    {
      "cell_type": "markdown",
      "metadata": {
        "id": "BNnxrUzVOVyC"
      },
      "source": [
        "Nuestra función de recomendación híbrida"
      ]
    },
    {
      "cell_type": "code",
      "metadata": {
        "colab": {
          "base_uri": "https://localhost:8080/",
          "height": 417
        },
        "id": "VJ6apF59OauH",
        "outputId": "1b3f0fee-beab-44d6-ae09-583672e30189"
      },
      "source": [
        "userId = randint(1, 100) # usamos un id random en cada ejecución\n",
        "nombre = input('Introduzca el nombre de la peli: ') # usaremos como ejemplo 'The Dark Knight'\n",
        "\n",
        "def recomendacion_hibrida(userId, title):\n",
        "    idx = indices[title]\n",
        "    tmdbId = id_map.loc[title]['id']\n",
        "    movie_id = id_map.loc[title]['movieId']\n",
        "    \n",
        "    sim_scores = list(enumerate(cosine_sim[int(idx)]))\n",
        "    sim_scores = sorted(sim_scores, key=lambda x: x[1], reverse=True)\n",
        "    sim_scores = sim_scores[1:26]\n",
        "    movie_indices = [i[0] for i in sim_scores]\n",
        "\n",
        "    pelis = small_mv_metadata.iloc[movie_indices][['title', 'vote_count', 'vote_average', 'release_date', 'id']]\n",
        "    pelis['est'] = pelis['id'].apply(lambda x: svd.predict(userId, indices_map.loc[x]['movieId']).est)\n",
        "    pelis = pelis.sort_values('est', ascending=False)\n",
        "    return pelis\n",
        "\n",
        "print(\"\\n\")\n",
        "recomendacion_hibrida(userId, nombre).head(10) # usamos 10 para este ejemplo"
      ],
      "execution_count": 237,
      "outputs": [
        {
          "output_type": "stream",
          "name": "stdout",
          "text": [
            "Introduzca el nombre de la peli: The Dark Knight\n",
            "\n",
            "\n"
          ]
        },
        {
          "output_type": "execute_result",
          "data": {
            "text/html": [
              "<div>\n",
              "<style scoped>\n",
              "    .dataframe tbody tr th:only-of-type {\n",
              "        vertical-align: middle;\n",
              "    }\n",
              "\n",
              "    .dataframe tbody tr th {\n",
              "        vertical-align: top;\n",
              "    }\n",
              "\n",
              "    .dataframe thead th {\n",
              "        text-align: right;\n",
              "    }\n",
              "</style>\n",
              "<table border=\"1\" class=\"dataframe\">\n",
              "  <thead>\n",
              "    <tr style=\"text-align: right;\">\n",
              "      <th></th>\n",
              "      <th>title</th>\n",
              "      <th>vote_count</th>\n",
              "      <th>vote_average</th>\n",
              "      <th>release_date</th>\n",
              "      <th>id</th>\n",
              "      <th>est</th>\n",
              "    </tr>\n",
              "  </thead>\n",
              "  <tbody>\n",
              "    <tr>\n",
              "      <th>7931</th>\n",
              "      <td>The Dark Knight Rises</td>\n",
              "      <td>9263.0</td>\n",
              "      <td>7.6</td>\n",
              "      <td>2012-07-16</td>\n",
              "      <td>49026</td>\n",
              "      <td>4.336155</td>\n",
              "    </tr>\n",
              "    <tr>\n",
              "      <th>6144</th>\n",
              "      <td>Batman Begins</td>\n",
              "      <td>7511.0</td>\n",
              "      <td>7.5</td>\n",
              "      <td>2005-06-10</td>\n",
              "      <td>272</td>\n",
              "      <td>4.327343</td>\n",
              "    </tr>\n",
              "    <tr>\n",
              "      <th>2696</th>\n",
              "      <td>JFK</td>\n",
              "      <td>513.0</td>\n",
              "      <td>7.5</td>\n",
              "      <td>1991-12-20</td>\n",
              "      <td>820</td>\n",
              "      <td>4.240814</td>\n",
              "    </tr>\n",
              "    <tr>\n",
              "      <th>2579</th>\n",
              "      <td>Batman: Mask of the Phantasm</td>\n",
              "      <td>218.0</td>\n",
              "      <td>7.4</td>\n",
              "      <td>1993-12-25</td>\n",
              "      <td>14919</td>\n",
              "      <td>4.188591</td>\n",
              "    </tr>\n",
              "    <tr>\n",
              "      <th>8165</th>\n",
              "      <td>Batman: The Dark Knight Returns, Part 1</td>\n",
              "      <td>410.0</td>\n",
              "      <td>7.7</td>\n",
              "      <td>2012-09-06</td>\n",
              "      <td>123025</td>\n",
              "      <td>4.153560</td>\n",
              "    </tr>\n",
              "    <tr>\n",
              "      <th>7344</th>\n",
              "      <td>Law Abiding Citizen</td>\n",
              "      <td>1522.0</td>\n",
              "      <td>7.2</td>\n",
              "      <td>2009-10-15</td>\n",
              "      <td>22803</td>\n",
              "      <td>4.047961</td>\n",
              "    </tr>\n",
              "    <tr>\n",
              "      <th>5511</th>\n",
              "      <td>To End All Wars</td>\n",
              "      <td>42.0</td>\n",
              "      <td>6.7</td>\n",
              "      <td>2001-09-02</td>\n",
              "      <td>1783</td>\n",
              "      <td>4.030940</td>\n",
              "    </tr>\n",
              "    <tr>\n",
              "      <th>7565</th>\n",
              "      <td>Batman: Under the Red Hood</td>\n",
              "      <td>459.0</td>\n",
              "      <td>7.6</td>\n",
              "      <td>2010-07-27</td>\n",
              "      <td>40662</td>\n",
              "      <td>4.026009</td>\n",
              "    </tr>\n",
              "    <tr>\n",
              "      <th>7933</th>\n",
              "      <td>Sherlock Holmes: A Game of Shadows</td>\n",
              "      <td>3971.0</td>\n",
              "      <td>7.0</td>\n",
              "      <td>2011-11-22</td>\n",
              "      <td>58574</td>\n",
              "      <td>4.008150</td>\n",
              "    </tr>\n",
              "    <tr>\n",
              "      <th>7242</th>\n",
              "      <td>The File on Thelma Jordon</td>\n",
              "      <td>8.0</td>\n",
              "      <td>6.3</td>\n",
              "      <td>1950-01-18</td>\n",
              "      <td>35404</td>\n",
              "      <td>3.966850</td>\n",
              "    </tr>\n",
              "  </tbody>\n",
              "</table>\n",
              "</div>"
            ],
            "text/plain": [
              "                                        title  vote_count  ...      id       est\n",
              "7931                    The Dark Knight Rises      9263.0  ...   49026  4.336155\n",
              "6144                            Batman Begins      7511.0  ...     272  4.327343\n",
              "2696                                      JFK       513.0  ...     820  4.240814\n",
              "2579             Batman: Mask of the Phantasm       218.0  ...   14919  4.188591\n",
              "8165  Batman: The Dark Knight Returns, Part 1       410.0  ...  123025  4.153560\n",
              "7344                      Law Abiding Citizen      1522.0  ...   22803  4.047961\n",
              "5511                          To End All Wars        42.0  ...    1783  4.030940\n",
              "7565               Batman: Under the Red Hood       459.0  ...   40662  4.026009\n",
              "7933       Sherlock Holmes: A Game of Shadows      3971.0  ...   58574  4.008150\n",
              "7242                The File on Thelma Jordon         8.0  ...   35404  3.966850\n",
              "\n",
              "[10 rows x 6 columns]"
            ]
          },
          "metadata": {},
          "execution_count": 237
        }
      ]
    },
    {
      "cell_type": "markdown",
      "metadata": {
        "id": "0pvMGkhoOa-d"
      },
      "source": [
        "Para ver un comportamiento más claro y menos aleatorio, usamos una entrada fija con dos ejecuciones de código. Aunque la película sea la misma, como el usuario es distinto las recomendaciones serán ligeramente diferentes"
      ]
    },
    {
      "cell_type": "code",
      "metadata": {
        "colab": {
          "base_uri": "https://localhost:8080/",
          "height": 363
        },
        "id": "b0A6-j-UOrM5",
        "outputId": "5fe8075d-1bb1-4773-f126-3841bc4b45b5"
      },
      "source": [
        "# ejemplo para el usuario 1\n",
        "recomendacion_hibrida(1, 'The Dark Knight').head(10)"
      ],
      "execution_count": 238,
      "outputs": [
        {
          "output_type": "execute_result",
          "data": {
            "text/html": [
              "<div>\n",
              "<style scoped>\n",
              "    .dataframe tbody tr th:only-of-type {\n",
              "        vertical-align: middle;\n",
              "    }\n",
              "\n",
              "    .dataframe tbody tr th {\n",
              "        vertical-align: top;\n",
              "    }\n",
              "\n",
              "    .dataframe thead th {\n",
              "        text-align: right;\n",
              "    }\n",
              "</style>\n",
              "<table border=\"1\" class=\"dataframe\">\n",
              "  <thead>\n",
              "    <tr style=\"text-align: right;\">\n",
              "      <th></th>\n",
              "      <th>title</th>\n",
              "      <th>vote_count</th>\n",
              "      <th>vote_average</th>\n",
              "      <th>release_date</th>\n",
              "      <th>id</th>\n",
              "      <th>est</th>\n",
              "    </tr>\n",
              "  </thead>\n",
              "  <tbody>\n",
              "    <tr>\n",
              "      <th>2579</th>\n",
              "      <td>Batman: Mask of the Phantasm</td>\n",
              "      <td>218.0</td>\n",
              "      <td>7.4</td>\n",
              "      <td>1993-12-25</td>\n",
              "      <td>14919</td>\n",
              "      <td>3.202733</td>\n",
              "    </tr>\n",
              "    <tr>\n",
              "      <th>6144</th>\n",
              "      <td>Batman Begins</td>\n",
              "      <td>7511.0</td>\n",
              "      <td>7.5</td>\n",
              "      <td>2005-06-10</td>\n",
              "      <td>272</td>\n",
              "      <td>3.091656</td>\n",
              "    </tr>\n",
              "    <tr>\n",
              "      <th>2696</th>\n",
              "      <td>JFK</td>\n",
              "      <td>513.0</td>\n",
              "      <td>7.5</td>\n",
              "      <td>1991-12-20</td>\n",
              "      <td>820</td>\n",
              "      <td>3.070894</td>\n",
              "    </tr>\n",
              "    <tr>\n",
              "      <th>7931</th>\n",
              "      <td>The Dark Knight Rises</td>\n",
              "      <td>9263.0</td>\n",
              "      <td>7.6</td>\n",
              "      <td>2012-07-16</td>\n",
              "      <td>49026</td>\n",
              "      <td>3.067148</td>\n",
              "    </tr>\n",
              "    <tr>\n",
              "      <th>8165</th>\n",
              "      <td>Batman: The Dark Knight Returns, Part 1</td>\n",
              "      <td>410.0</td>\n",
              "      <td>7.7</td>\n",
              "      <td>2012-09-06</td>\n",
              "      <td>123025</td>\n",
              "      <td>2.898881</td>\n",
              "    </tr>\n",
              "    <tr>\n",
              "      <th>7933</th>\n",
              "      <td>Sherlock Holmes: A Game of Shadows</td>\n",
              "      <td>3971.0</td>\n",
              "      <td>7.0</td>\n",
              "      <td>2011-11-22</td>\n",
              "      <td>58574</td>\n",
              "      <td>2.843617</td>\n",
              "    </tr>\n",
              "    <tr>\n",
              "      <th>7901</th>\n",
              "      <td>Batman: Year One</td>\n",
              "      <td>255.0</td>\n",
              "      <td>7.1</td>\n",
              "      <td>2011-09-27</td>\n",
              "      <td>69735</td>\n",
              "      <td>2.794658</td>\n",
              "    </tr>\n",
              "    <tr>\n",
              "      <th>7344</th>\n",
              "      <td>Law Abiding Citizen</td>\n",
              "      <td>1522.0</td>\n",
              "      <td>7.2</td>\n",
              "      <td>2009-10-15</td>\n",
              "      <td>22803</td>\n",
              "      <td>2.792184</td>\n",
              "    </tr>\n",
              "    <tr>\n",
              "      <th>2893</th>\n",
              "      <td>Flying Tigers</td>\n",
              "      <td>7.0</td>\n",
              "      <td>6.1</td>\n",
              "      <td>1942-10-08</td>\n",
              "      <td>29372</td>\n",
              "      <td>2.786535</td>\n",
              "    </tr>\n",
              "    <tr>\n",
              "      <th>524</th>\n",
              "      <td>Batman</td>\n",
              "      <td>2145.0</td>\n",
              "      <td>7.0</td>\n",
              "      <td>1989-06-23</td>\n",
              "      <td>268</td>\n",
              "      <td>2.693917</td>\n",
              "    </tr>\n",
              "  </tbody>\n",
              "</table>\n",
              "</div>"
            ],
            "text/plain": [
              "                                        title  vote_count  ...      id       est\n",
              "2579             Batman: Mask of the Phantasm       218.0  ...   14919  3.202733\n",
              "6144                            Batman Begins      7511.0  ...     272  3.091656\n",
              "2696                                      JFK       513.0  ...     820  3.070894\n",
              "7931                    The Dark Knight Rises      9263.0  ...   49026  3.067148\n",
              "8165  Batman: The Dark Knight Returns, Part 1       410.0  ...  123025  2.898881\n",
              "7933       Sherlock Holmes: A Game of Shadows      3971.0  ...   58574  2.843617\n",
              "7901                         Batman: Year One       255.0  ...   69735  2.794658\n",
              "7344                      Law Abiding Citizen      1522.0  ...   22803  2.792184\n",
              "2893                            Flying Tigers         7.0  ...   29372  2.786535\n",
              "524                                    Batman      2145.0  ...     268  2.693917\n",
              "\n",
              "[10 rows x 6 columns]"
            ]
          },
          "metadata": {},
          "execution_count": 238
        }
      ]
    },
    {
      "cell_type": "code",
      "metadata": {
        "colab": {
          "base_uri": "https://localhost:8080/",
          "height": 363
        },
        "id": "VN4rHb6lOrqL",
        "outputId": "1fb702a0-80a4-4308-effd-25ffe60f8b9a"
      },
      "source": [
        "# ejemplo para el usuario 30\n",
        "recomendacion_hibrida(30, 'The Dark Knight').head(10)"
      ],
      "execution_count": 239,
      "outputs": [
        {
          "output_type": "execute_result",
          "data": {
            "text/html": [
              "<div>\n",
              "<style scoped>\n",
              "    .dataframe tbody tr th:only-of-type {\n",
              "        vertical-align: middle;\n",
              "    }\n",
              "\n",
              "    .dataframe tbody tr th {\n",
              "        vertical-align: top;\n",
              "    }\n",
              "\n",
              "    .dataframe thead th {\n",
              "        text-align: right;\n",
              "    }\n",
              "</style>\n",
              "<table border=\"1\" class=\"dataframe\">\n",
              "  <thead>\n",
              "    <tr style=\"text-align: right;\">\n",
              "      <th></th>\n",
              "      <th>title</th>\n",
              "      <th>vote_count</th>\n",
              "      <th>vote_average</th>\n",
              "      <th>release_date</th>\n",
              "      <th>id</th>\n",
              "      <th>est</th>\n",
              "    </tr>\n",
              "  </thead>\n",
              "  <tbody>\n",
              "    <tr>\n",
              "      <th>7931</th>\n",
              "      <td>The Dark Knight Rises</td>\n",
              "      <td>9263.0</td>\n",
              "      <td>7.6</td>\n",
              "      <td>2012-07-16</td>\n",
              "      <td>49026</td>\n",
              "      <td>4.114336</td>\n",
              "    </tr>\n",
              "    <tr>\n",
              "      <th>5511</th>\n",
              "      <td>To End All Wars</td>\n",
              "      <td>42.0</td>\n",
              "      <td>6.7</td>\n",
              "      <td>2001-09-02</td>\n",
              "      <td>1783</td>\n",
              "      <td>4.086261</td>\n",
              "    </tr>\n",
              "    <tr>\n",
              "      <th>8165</th>\n",
              "      <td>Batman: The Dark Knight Returns, Part 1</td>\n",
              "      <td>410.0</td>\n",
              "      <td>7.7</td>\n",
              "      <td>2012-09-06</td>\n",
              "      <td>123025</td>\n",
              "      <td>4.085256</td>\n",
              "    </tr>\n",
              "    <tr>\n",
              "      <th>2696</th>\n",
              "      <td>JFK</td>\n",
              "      <td>513.0</td>\n",
              "      <td>7.5</td>\n",
              "      <td>1991-12-20</td>\n",
              "      <td>820</td>\n",
              "      <td>4.047796</td>\n",
              "    </tr>\n",
              "    <tr>\n",
              "      <th>6144</th>\n",
              "      <td>Batman Begins</td>\n",
              "      <td>7511.0</td>\n",
              "      <td>7.5</td>\n",
              "      <td>2005-06-10</td>\n",
              "      <td>272</td>\n",
              "      <td>3.967558</td>\n",
              "    </tr>\n",
              "    <tr>\n",
              "      <th>2579</th>\n",
              "      <td>Batman: Mask of the Phantasm</td>\n",
              "      <td>218.0</td>\n",
              "      <td>7.4</td>\n",
              "      <td>1993-12-25</td>\n",
              "      <td>14919</td>\n",
              "      <td>3.884157</td>\n",
              "    </tr>\n",
              "    <tr>\n",
              "      <th>7933</th>\n",
              "      <td>Sherlock Holmes: A Game of Shadows</td>\n",
              "      <td>3971.0</td>\n",
              "      <td>7.0</td>\n",
              "      <td>2011-11-22</td>\n",
              "      <td>58574</td>\n",
              "      <td>3.815994</td>\n",
              "    </tr>\n",
              "    <tr>\n",
              "      <th>7901</th>\n",
              "      <td>Batman: Year One</td>\n",
              "      <td>255.0</td>\n",
              "      <td>7.1</td>\n",
              "      <td>2011-09-27</td>\n",
              "      <td>69735</td>\n",
              "      <td>3.803287</td>\n",
              "    </tr>\n",
              "    <tr>\n",
              "      <th>7242</th>\n",
              "      <td>The File on Thelma Jordon</td>\n",
              "      <td>8.0</td>\n",
              "      <td>6.3</td>\n",
              "      <td>1950-01-18</td>\n",
              "      <td>35404</td>\n",
              "      <td>3.801445</td>\n",
              "    </tr>\n",
              "    <tr>\n",
              "      <th>6667</th>\n",
              "      <td>Fracture</td>\n",
              "      <td>908.0</td>\n",
              "      <td>7.1</td>\n",
              "      <td>2007-04-20</td>\n",
              "      <td>6145</td>\n",
              "      <td>3.769613</td>\n",
              "    </tr>\n",
              "  </tbody>\n",
              "</table>\n",
              "</div>"
            ],
            "text/plain": [
              "                                        title  vote_count  ...      id       est\n",
              "7931                    The Dark Knight Rises      9263.0  ...   49026  4.114336\n",
              "5511                          To End All Wars        42.0  ...    1783  4.086261\n",
              "8165  Batman: The Dark Knight Returns, Part 1       410.0  ...  123025  4.085256\n",
              "2696                                      JFK       513.0  ...     820  4.047796\n",
              "6144                            Batman Begins      7511.0  ...     272  3.967558\n",
              "2579             Batman: Mask of the Phantasm       218.0  ...   14919  3.884157\n",
              "7933       Sherlock Holmes: A Game of Shadows      3971.0  ...   58574  3.815994\n",
              "7901                         Batman: Year One       255.0  ...   69735  3.803287\n",
              "7242                The File on Thelma Jordon         8.0  ...   35404  3.801445\n",
              "6667                                 Fracture       908.0  ...    6145  3.769613\n",
              "\n",
              "[10 rows x 6 columns]"
            ]
          },
          "metadata": {},
          "execution_count": 239
        }
      ]
    },
    {
      "cell_type": "markdown",
      "metadata": {
        "id": "7foqRUArRoZ-"
      },
      "source": [
        "# **Recursos y bibliografía**\n",
        "\n",
        "Tutoriales en github usados para aprender a manejar algunos datos: https://github.com/LearnDataSci/articles\n",
        "\n",
        "Información de contraste sobre la similaridad del coseno: https://www.grapheverywhere.com/algoritmo-de-similitud-de-coseno/\n",
        "\n",
        "Información de apoyo sobre el filtrado híbrido: https://medium.com/@rvillalongar/sistemas-recomendadores-hibridos-93a6fff29500"
      ]
    }
  ]
}